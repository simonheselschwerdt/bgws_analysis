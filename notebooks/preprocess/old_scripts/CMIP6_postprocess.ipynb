{
 "cells": [
  {
   "cell_type": "markdown",
   "id": "05fcb352-aecb-438c-9c68-b8bed66b5882",
   "metadata": {},
   "source": [
    "# CMIP6 Postprocess\n",
    "\n",
    "**Following steps are included in this script:**\n",
    "\n",
    "1. Load models\n",
    "2. Create variables and save in dictionary\n",
    "3. Merge all models and concat so model is one coordinate\n",
    "4. Safe netcdf files"
   ]
  },
  {
   "cell_type": "code",
   "execution_count": 2,
   "id": "854af429-43a1-489d-8513-dca8c1466663",
   "metadata": {},
   "outputs": [],
   "source": [
    "# ========== Packages ==========\n",
    "import xarray as xr\n",
    "import pandas as pd\n",
    "import numpy as np"
   ]
  },
  {
   "cell_type": "markdown",
   "id": "5b160a22-6e50-449a-b081-3ab60b4e2e22",
   "metadata": {
    "tags": []
   },
   "source": [
    "### 1. Load models"
   ]
  },
  {
   "cell_type": "code",
   "execution_count": 8,
   "id": "8e537d88-6f4d-4f04-bda8-35b38c79231f",
   "metadata": {},
   "outputs": [],
   "source": [
    "import os\n",
    "\n",
    "experiment_id = 'historical'\n",
    "source_id = 'NorESM2-MM' # BCC-CSM2-MR CESM2 NorESM2-MM TaiESM1\n",
    "\n",
    "savepath = f'data/CMIP6/{experiment_id}'\n",
    "filename = f'CMIP.{source_id}.{experiment_id}.1x1_grid.nc'\n",
    "nc_in = os.path.join(savepath, filename)\n",
    "\n",
    "ds_2 = xr.open_dataset(nc_in) "
   ]
  },
  {
   "cell_type": "markdown",
   "id": "e40f9ff5-66f2-4d2e-ad0d-5907539c38aa",
   "metadata": {
    "jupyter": {
     "outputs_hidden": true
    },
    "tags": []
   },
   "source": [
    "### 2. Create new variables and integrate in dictionary"
   ]
  },
  {
   "cell_type": "code",
   "execution_count": null,
   "id": "31c22343-2012-4b5f-bd5d-685a5fd50d81",
   "metadata": {
    "tags": []
   },
   "outputs": [],
   "source": [
    "# Water use efficiency (WUE) \n",
    "# 1. WUE_GPP (gC m^-2 mm^-1 )\n",
    "\n",
    "def calc_wue(ds):\n",
    "    ds['wue'] = (ds.gpp / ds.evspblsoi) \n",
    "    ds['wue'].attrs = {'units': 'm/s',\n",
    "                              'long_name': 'Wind Speed',\n",
    "                              'derived_by': 'intake-esm'}\n",
    "    return ds"
   ]
  },
  {
   "cell_type": "code",
   "execution_count": null,
   "id": "20c5d0ff-0c52-42de-94bc-4a6732452c3d",
   "metadata": {
    "tags": []
   },
   "outputs": [],
   "source": [
    "# Vapour pressure deficit (VPD) etc."
   ]
  },
  {
   "cell_type": "markdown",
   "id": "972acf8c-e186-4689-ba14-422ba6a628c2",
   "metadata": {},
   "source": [
    "### 3. Merge all models and concat so model is one coordinate"
   ]
  },
  {
   "cell_type": "code",
   "execution_count": null,
   "id": "adb8fc6c-2015-4fc9-aa11-856a7c2cabc2",
   "metadata": {},
   "outputs": [],
   "source": [
    "#concatenate all models\n",
    "_coord = list(models)\n",
    "ds = xr.concat(objs=ds_all, dim=_coord, coords=\"all\").rename({'concat_dim':'model'}).squeeze().drop('bnds').drop('height')\n",
    "ds"
   ]
  },
  {
   "cell_type": "code",
   "execution_count": 10,
   "id": "678fa00b-2a18-4dce-9bf1-325cbb5db23b",
   "metadata": {
    "collapsed": true,
    "jupyter": {
     "outputs_hidden": true
    },
    "tags": []
   },
   "outputs": [
    {
     "data": {
      "text/plain": [
       "[<xarray.Dataset>\n",
       " Dimensions:     (member_id: 1, time: 1980, lat: 180, lon: 360, bnds: 2)\n",
       " Coordinates:\n",
       "   * time        (time) object 1850-01-16 12:00:00 ... 2014-12-16 12:00:00\n",
       "   * bnds        (bnds) int64 0 1\n",
       "   * member_id   (member_id) object 'r1i1p1f1'\n",
       "     height      float64 ...\n",
       "   * lat         (lat) float64 -90.0 -89.0 -88.0 -87.0 ... 86.0 87.0 88.0 89.0\n",
       "   * lon         (lon) float64 -180.0 -179.0 -178.0 -177.0 ... 177.0 178.0 179.0\n",
       "     depth       float64 ...\n",
       " Data variables:\n",
       "     evspsbl     (member_id, time, lat, lon) float32 ...\n",
       "     hurs        (member_id, time, lat, lon) float32 ...\n",
       "     huss        (member_id, time, lat, lon) float32 ...\n",
       "     pr          (member_id, time, lat, lon) float32 ...\n",
       "     evspsblsoi  (member_id, time, lat, lon) float32 ...\n",
       "     evspsblveg  (member_id, time, lat, lon) float32 ...\n",
       "     lai         (member_id, time, lat, lon) float32 ...\n",
       "     mrro        (member_id, time, lat, lon) float32 ...\n",
       "     mrros       (member_id, time, lat, lon) float32 ...\n",
       "     mrso        (member_id, time, lat, lon) float32 ...\n",
       "     mrsos       (member_id, time, lat, lon) float32 ...\n",
       "     tran        (member_id, time, lat, lon) float32 ...\n",
       " Attributes: (12/46)\n",
       "     parent_source_id:       BCC-CSM2-MR\n",
       "     realization_index:      1\n",
       "     cmor_version:           3.3.2\n",
       "     variant_label:          r1i1p1f1\n",
       "     product:                model-output\n",
       "     mip_era:                CMIP6\n",
       "     ...                     ...\n",
       "     title:                  BCC-CSM2-MR output prepared for CMIP6\n",
       "     run_variant:            forcing: greenhouse gases,solar constant,aerosol,...\n",
       "     grid_label:             gn\n",
       "     sub_experiment:         none\n",
       "     parent_time_units:      days since 1850-01-01\n",
       "     regrid_method:          bilinear,\n",
       " <xarray.Dataset>\n",
       " Dimensions:        (member_id: 1, time: 1980, lat: 180, lon: 360, nbnd: 2,\n",
       "                     hist_interval: 2)\n",
       " Coordinates:\n",
       "   * time           (time) object 1850-01-15 12:00:00 ... 2014-12-15 12:00:00\n",
       "   * nbnd           (nbnd) int64 0 1\n",
       "   * member_id      (member_id) object 'r1i1p1f1'\n",
       "   * lat            (lat) float64 -90.0 -89.0 -88.0 -87.0 ... 86.0 87.0 88.0 89.0\n",
       "   * lon            (lon) float64 -180.0 -179.0 -178.0 ... 177.0 178.0 179.0\n",
       "   * hist_interval  (hist_interval) int64 0 1\n",
       " Data variables:\n",
       "     evspsbl        (member_id, time, lat, lon) float32 ...\n",
       "     hurs           (member_id, time, lat, lon) float32 ...\n",
       "     huss           (member_id, time, lat, lon) float32 ...\n",
       "     evspsblsoi     (member_id, time, lat, lon) float32 ...\n",
       "     evspsblveg     (member_id, time, lat, lon) float32 ...\n",
       "     lai            (member_id, time, lat, lon) float32 ...\n",
       "     mrro           (member_id, time, lat, lon) float32 ...\n",
       "     mrros          (member_id, time, lat, lon) float32 ...\n",
       "     mrso           (member_id, time, lat, lon) float32 ...\n",
       "     mrsos          (member_id, time, lat, lon) float32 ...\n",
       "     tran           (member_id, time, lat, lon) float32 ...\n",
       "     pr             (member_id, time, lat, lon) float32 ...\n",
       " Attributes: (12/44)\n",
       "     variant_info:           CMIP6 20th century experiments (1850-2014) with C...\n",
       "     sub_experiment:         none\n",
       "     physics_index:          1\n",
       "     branch_time_in_parent:  219000.0\n",
       "     parent_time_units:      days since 0001-01-01 00:00:00\n",
       "     parent_experiment_id:   piControl\n",
       "     ...                     ...\n",
       "     further_info_url:       https://furtherinfo.es-doc.org/CMIP6.NCAR.CESM2.h...\n",
       "     sub_experiment_id:      none\n",
       "     model_doi_url:          https://doi.org/10.5065/D67H1H0V\n",
       "     Conventions:            CF-1.7 CMIP-6.2\n",
       "     initialization_index:   1\n",
       "     regrid_method:          bilinear,\n",
       " <xarray.Dataset>\n",
       " Dimensions:     (member_id: 1, time: 1980, lat: 180, lon: 360, bnds: 2)\n",
       " Coordinates:\n",
       "   * time        (time) object 1850-01-16 12:00:00 ... 2014-12-16 12:00:00\n",
       "   * bnds        (bnds) int64 0 1\n",
       "   * member_id   (member_id) object 'r1i1p1f1'\n",
       "     height      float64 ...\n",
       "   * lat         (lat) float64 -90.0 -89.0 -88.0 -87.0 ... 86.0 87.0 88.0 89.0\n",
       "   * lon         (lon) float64 -180.0 -179.0 -178.0 -177.0 ... 177.0 178.0 179.0\n",
       "     depth       float64 ...\n",
       " Data variables:\n",
       "     evspsbl     (member_id, time, lat, lon) float32 ...\n",
       "     hurs        (member_id, time, lat, lon) float32 ...\n",
       "     huss        (member_id, time, lat, lon) float32 ...\n",
       "     pr          (member_id, time, lat, lon) float32 ...\n",
       "     evspsblsoi  (member_id, time, lat, lon) float32 ...\n",
       "     evspsblveg  (member_id, time, lat, lon) float32 ...\n",
       "     lai         (member_id, time, lat, lon) float32 ...\n",
       "     mrro        (member_id, time, lat, lon) float32 ...\n",
       "     mrros       (member_id, time, lat, lon) float32 ...\n",
       "     mrso        (member_id, time, lat, lon) float32 ...\n",
       "     mrsos       (member_id, time, lat, lon) float32 ...\n",
       "     tran        (member_id, time, lat, lon) float32 ...\n",
       " Attributes: (12/45)\n",
       "     mip_era:                   CMIP6\n",
       "     variant_label:             r1i1p1f1\n",
       "     parent_source_id:          NorESM2-MM\n",
       "     initialization_index:      1\n",
       "     run_variant:               N/A\n",
       "     cmor_version:              3.5.0\n",
       "     ...                        ...\n",
       "     institution_id:            NCC\n",
       "     nominal_resolution:        100 km\n",
       "     sub_experiment:            none\n",
       "     activity_id:               CMIP\n",
       "     experiment:                all-forcing simulation of the recent past\n",
       "     regrid_method:             bilinear,\n",
       " <xarray.Dataset>\n",
       " Dimensions:     (member_id: 1, time: 1980, lat: 180, lon: 360, bnds: 2)\n",
       " Coordinates:\n",
       "   * time        (time) object 1850-01-16 12:00:00 ... 2014-12-16 12:00:00\n",
       "   * bnds        (bnds) int64 0 1\n",
       "   * member_id   (member_id) object 'r1i1p1f1'\n",
       "     height      float64 ...\n",
       "   * lat         (lat) float64 -90.0 -89.0 -88.0 -87.0 ... 86.0 87.0 88.0 89.0\n",
       "   * lon         (lon) float64 -180.0 -179.0 -178.0 -177.0 ... 177.0 178.0 179.0\n",
       "     depth       float64 ...\n",
       " Data variables: (12/13)\n",
       "     evspsbl     (member_id, time, lat, lon) float32 ...\n",
       "     huss        (member_id, time, lat, lon) float32 ...\n",
       "     pr          (member_id, time, lat, lon) float32 ...\n",
       "     evspsblsoi  (member_id, time, lat, lon) float32 ...\n",
       "     evspsblveg  (member_id, time, lat, lon) float32 ...\n",
       "     lai         (member_id, time, lat, lon) float32 ...\n",
       "     ...          ...\n",
       "     mrros       (member_id, time, lat, lon) float32 ...\n",
       "     mrso        (member_id, time, lat, lon) float32 ...\n",
       "     mrsos       (member_id, time, lat, lon) float32 ...\n",
       "     npp         (member_id, time, lat, lon) float32 ...\n",
       "     tran        (member_id, time, lat, lon) float32 ...\n",
       "     gpp         (member_id, time, lat, lon) float32 ...\n",
       " Attributes: (12/46)\n",
       "     mip_era:                   CMIP6\n",
       "     variant_label:             r1i1p1f1\n",
       "     parent_source_id:          TaiESM1\n",
       "     initialization_index:      1\n",
       "     run_variant:               N/A\n",
       "     cmor_version:              3.5.0\n",
       "     ...                        ...\n",
       "     institution_id:            AS-RCEC\n",
       "     nominal_resolution:        100 km\n",
       "     sub_experiment:            none\n",
       "     activity_id:               CMIP\n",
       "     experiment:                all-forcing simulation of the recent past\n",
       "     regrid_method:             bilinear]"
      ]
     },
     "execution_count": 10,
     "metadata": {},
     "output_type": "execute_result"
    }
   ],
   "source": [
    "ds_all = [ds_0, ds_1, ds_2, ds_3]\n",
    "ds_all"
   ]
  },
  {
   "cell_type": "code",
   "execution_count": 13,
   "id": "89d30849-505c-4d4d-b1fc-d7d4c7d33e07",
   "metadata": {},
   "outputs": [
    {
     "data": {
      "text/plain": [
       "['BCC-CSM2-MR', 'CESM2', 'NorESM2-MM', 'TaiESM1']"
      ]
     },
     "execution_count": 13,
     "metadata": {},
     "output_type": "execute_result"
    }
   ],
   "source": [
    "models = [ds_0.source_id, ds_1.source_id, ds_2.source_id, ds_3.source_id]\n",
    "models"
   ]
  },
  {
   "cell_type": "markdown",
   "id": "e2ad37a4-0a42-40b4-8632-e1cba90922b7",
   "metadata": {},
   "source": [
    "### 4. Safe netcdf files"
   ]
  }
 ],
 "metadata": {
  "kernelspec": {
   "display_name": "mypy3",
   "language": "python",
   "name": "mypy3"
  },
  "language_info": {
   "codemirror_mode": {
    "name": "ipython",
    "version": 3
   },
   "file_extension": ".py",
   "mimetype": "text/x-python",
   "name": "python",
   "nbconvert_exporter": "python",
   "pygments_lexer": "ipython3",
   "version": "3.10.0"
  }
 },
 "nbformat": 4,
 "nbformat_minor": 5
}
