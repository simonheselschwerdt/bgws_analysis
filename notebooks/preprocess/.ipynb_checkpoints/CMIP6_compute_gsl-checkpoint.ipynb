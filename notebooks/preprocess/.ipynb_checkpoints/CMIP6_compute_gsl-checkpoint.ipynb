{
 "cells": [
  {
   "cell_type": "markdown",
   "id": "05fcb352-aecb-438c-9c68-b8bed66b5882",
   "metadata": {
    "tags": []
   },
   "source": [
    "# CMIP6 Compute GSL\n",
    "\n",
    "**Following steps are included in this script:**\n",
    "\n",
    "1. Load netCDF files\n",
    "2. Compute GSL\n",
    "\n",
    "Save and replace netcdf files"
   ]
  },
  {
   "cell_type": "code",
   "execution_count": 1,
   "id": "caece056-697a-4d0f-96ae-386db8e174d7",
   "metadata": {},
   "outputs": [],
   "source": [
    "import sys\n",
    "import os\n",
    "import dask\n",
    "import xarray as xr\n",
    "from dask.diagnostics import ProgressBar\n",
    "import pandas as pd\n",
    "import cftime\n",
    "import numpy as np\n",
    "\n",
    "# Define the full path to the data_handling directory and the config file\n",
    "data_handling_dir = '/work/ch0636/g300115/phd_project/common/src/data_handling'\n",
    "config_dir = '/work/ch0636/g300115/phd_project/common/src'\n",
    "\n",
    "# Add the directories to sys.path\n",
    "sys.path.append(data_handling_dir)\n",
    "sys.path.append(config_dir)\n",
    "\n",
    "# Now import the functions from load_preprocessed_data.py and config\n",
    "import load_data as ld\n",
    "import process_data as pro_dat\n",
    "import save_data_as_nc as sd\n",
    "from config import BASE_DIR, DEFAULT_MODEL, DEFAULT_VARIABLE, DEFAULT_TEMPORAL_RES, DEFAULT_EXPERIMENT"
   ]
  },
  {
   "cell_type": "markdown",
   "id": "3eee0a20-d3fb-4b31-a87c-2f5db6f99597",
   "metadata": {
    "jp-MarkdownHeadingCollapsed": true,
    "tags": []
   },
   "source": [
    "### Functions"
   ]
  },
  {
   "cell_type": "code",
   "execution_count": 2,
   "id": "ec615c46-3b33-4cf0-af79-1519dae7cd23",
   "metadata": {},
   "outputs": [],
   "source": [
    "def calculate_monthly_mean(ds, variable):\n",
    "    \"\"\"\n",
    "    Calculate the mean for each month across all years for a given variable in the dataset.\n",
    "\n",
    "    Parameters:\n",
    "    ds (xarray.Dataset): The input dataset.\n",
    "    variable (str): The name of the variable to calculate the monthly mean for.\n",
    "\n",
    "    Returns:\n",
    "    xarray.Dataset: A dataset containing the monthly mean for the specified variable.\n",
    "    \"\"\"\n",
    "    # Calculate the monthly mean\n",
    "    monthly_means = ds[variable].groupby('time.month').mean('time')\n",
    "\n",
    "    # Create a new dataset for the monthly means\n",
    "    monthly_mean_ds = xr.Dataset({variable: monthly_means})\n",
    "\n",
    "    # Copy attributes from the original dataset and variable\n",
    "    monthly_mean_ds.attrs = ds.attrs\n",
    "    monthly_mean_ds[variable].attrs = ds[variable].attrs\n",
    "    monthly_mean_ds[variable].attrs['description'] = f'Monthly mean of {variable}'\n",
    "\n",
    "    return monthly_mean_ds"
   ]
  },
  {
   "cell_type": "code",
   "execution_count": 3,
   "id": "5a176abd-6afd-487e-a4cf-1d225226fad2",
   "metadata": {
    "tags": []
   },
   "outputs": [],
   "source": [
    "def calculate_gsl(ds_dict, season='all'):\n",
    "    for name, ds in ds_dict.items():\n",
    "        print(ds.source_id)\n",
    "        monthly_mean_ds = calculate_monthly_mean(ds, 'lai')\n",
    "        gsl_ds = calculate_growing_season_length(monthly_mean_ds, season=season)\n",
    "        ds_dict[name] = gsl_ds\n",
    "        \n",
    "    return ds_dict"
   ]
  },
  {
   "cell_type": "code",
   "execution_count": 4,
   "id": "c1abdfa9-14ad-491d-b46f-ff5ee5fd34df",
   "metadata": {
    "tags": []
   },
   "outputs": [],
   "source": [
    "def calculate_growing_season_length(ds_monthly_mean, season):\n",
    "    lai = ds_monthly_mean['lai']\n",
    "\n",
    "    # Create a DataArray for storing the growing season length\n",
    "    growing_season_length = xr.DataArray(\n",
    "        np.nan, \n",
    "        dims=('lat', 'lon'), \n",
    "        coords={'lat': ds_monthly_mean.lat, 'lon': ds_monthly_mean.lon}\n",
    "    )\n",
    "    \n",
    "    seasons_to_months = {\n",
    "        'winter': [12, 1, 2],\n",
    "        'spring': [3, 4, 5],\n",
    "        'summer': [6, 7, 8],\n",
    "        'fall': [9, 10, 11],\n",
    "        'period': range(1, 13)\n",
    "    }\n",
    "    \n",
    "    selected_months = seasons_to_months[season]\n",
    "    \n",
    "    print(f'{season}: {selected_months}')\n",
    "\n",
    "    for lat in ds_monthly_mean.lat.values:\n",
    "        for lon in ds_monthly_mean.lon.values:\n",
    "            lai_ts = lai.sel(lat=lat, lon=lon)\n",
    "\n",
    "            # Check if the LAI time series is entirely NaN (ocean cell)\n",
    "            if lai_ts.isnull().all():\n",
    "                continue  # Skip this cell, it remains NaN in growing_season_length\n",
    "\n",
    "            monthly_pct_change = calculate_monthly_pct_change(lai_ts)\n",
    "            starts, ends = detect_season_starts_and_ends(monthly_pct_change)\n",
    "            if season == 'winter':\n",
    "                length = winter_gsl_algorithm(starts, ends, selected_months)\n",
    "            elif season == 'period':\n",
    "                length = calculate_season_length(starts, ends)\n",
    "            else:\n",
    "                length = gsl_algorithm(starts, ends, selected_months)\n",
    "            growing_season_length.loc[dict(lat=lat, lon=lon)] = length\n",
    "\n",
    "    # Create a new dataset for the growing season length\n",
    "    ds_growing_season_length = xr.Dataset()\n",
    "    ds_growing_season_length[f'gsl'] = growing_season_length\n",
    "    ds_growing_season_length[f'gsl'].attrs = {\n",
    "        'description': f\"Mean growing season length over the {season}\",\n",
    "        'calculated_from': 'LAI',\n",
    "        'season': season,\n",
    "        'units': '',\n",
    "        'long_name': 'Growing Season Length' \n",
    "    }\n",
    "    \n",
    "    ds_growing_season_length.attrs = ds_monthly_mean.attrs\n",
    "    ds_growing_season_length.attrs['table_id'] = season\n",
    "    \n",
    "\n",
    "    return ds_growing_season_length"
   ]
  },
  {
   "cell_type": "code",
   "execution_count": 5,
   "id": "f505c680-0370-434b-adb4-c362bf35301a",
   "metadata": {
    "tags": []
   },
   "outputs": [],
   "source": [
    "def winter_gsl_algorithm(starts, ends, selected_months):\n",
    "     # Set december to month number 0\n",
    "    # Adjust starts and ends lists if December is present, setting it to month number 0\n",
    "    # and ensuring selected_months reflects winter months [0, 1, 2]\n",
    "    starts = [0 if month == 12 else month for month in starts]\n",
    "    ends = [0 if month == 12 else month for month in ends]\n",
    "\n",
    "    # If any start or end was adjusted to 0, indicating December was present,\n",
    "    # then set selected_months for winter\n",
    "    if 0 in starts or 0 in ends:\n",
    "        selected_months = [0, 1, 2]\n",
    "    \n",
    "    total_growing_season_length = 0\n",
    "    \n",
    "    for start, end in zip(starts, ends): \n",
    "        # Start in SM & End in SM\n",
    "        if start in selected_months and end in selected_months:\n",
    "            if start < end:\n",
    "                growing_season_length = end - start\n",
    "            elif start > end:\n",
    "                if start == 1:\n",
    "                    growing_season_length = 2\n",
    "                else:\n",
    "                    growing_season_length = (2 - start + 1) + (end)\n",
    "        # Start in SM & End not\n",
    "        elif start in selected_months and end not in selected_months:\n",
    "            position = selected_months.index(start)\n",
    "            growing_season_length = len(selected_months) - (position)\n",
    "        # End in SM & Start not\n",
    "        elif start not in selected_months and end in selected_months:\n",
    "            selected_months.reverse()\n",
    "            position = selected_months.index(end)\n",
    "            growing_season_length = max(0, len(selected_months) - position - 1)\n",
    "            selected_months.reverse()\n",
    "        # Start not in SM & End not in SM\n",
    "        elif start not in selected_months and end not in selected_months:\n",
    "            if start <= end: \n",
    "                growing_season_length = 0\n",
    "            elif start > end: \n",
    "                growing_season_length = 3\n",
    "        # Combination missing\n",
    "        else:\n",
    "            raise ValueError(\"The start and end combination for the growing season is missing or invalid.\")\n",
    "        \n",
    "        total_growing_season_length += growing_season_length\n",
    "\n",
    "    # Revert starts and ends from 0 to 12 if they were previously adjusted to represent December\n",
    "    starts = [12 if month == 0 else month for month in starts]\n",
    "    ends = [12 if month == 0 else month for month in ends]\n",
    "\n",
    "    # If December (12) is now present in starts or ends, adjust selected_months for winter\n",
    "    if 12 in starts or 12 in ends:\n",
    "        selected_months = [12, 1, 2]\n",
    "    \n",
    "    return total_growing_season_length"
   ]
  },
  {
   "cell_type": "code",
   "execution_count": 6,
   "id": "acd5580f-f669-49d1-927c-6255a03bcc28",
   "metadata": {
    "tags": []
   },
   "outputs": [],
   "source": [
    "def gsl_algorithm(starts, ends, selected_months):\n",
    "    \n",
    "    total_growing_season_length = 0\n",
    "    \n",
    "    for start, end in zip(starts, ends):\n",
    "        # Start in SM & End in SM\n",
    "        if start in selected_months and end in selected_months:\n",
    "            if start < end:\n",
    "                growing_season_length = end - start\n",
    "            elif start > end:\n",
    "                growing_season_length = (2 - start + 1) + (end)\n",
    "        # Start in SM & End not\n",
    "        elif start in selected_months and end not in selected_months:\n",
    "            position = selected_months.index(start)\n",
    "            growing_season_length = len(selected_months) - (position)\n",
    "        # End in SM & Start not\n",
    "        elif start not in selected_months and end in selected_months:\n",
    "            selected_months.reverse()\n",
    "            position = selected_months.index(end)\n",
    "            growing_season_length = max(0, len(selected_months) - position - 1)\n",
    "            selected_months.reverse()\n",
    "        # Start not in SM & End not in SM\n",
    "        elif start not in selected_months and end not in selected_months:\n",
    "            if start == end: \n",
    "                growing_season_length = 0\n",
    "            if start < end or start > end: \n",
    "                if end < min(selected_months):\n",
    "                    growing_season_length = 0\n",
    "                elif end > max(selected_months) and start > max(selected_months):\n",
    "                    growing_season_length = 0\n",
    "                else:\n",
    "                    growing_season_length = 3\n",
    "        else:\n",
    "            raise ValueError(\"The start and end combination for the growing season is missing or invalid.\")\n",
    "            \n",
    "        total_growing_season_length += growing_season_length\n",
    "        \n",
    "    return total_growing_season_length"
   ]
  },
  {
   "cell_type": "code",
   "execution_count": 7,
   "id": "0a5b8bb2-4408-439b-9676-d7f393116c6e",
   "metadata": {
    "tags": []
   },
   "outputs": [],
   "source": [
    "def cyclic_distance(start, end):\n",
    "    \"\"\"Calculate the cyclic distance from start to end considering a wrap around from 12 to 1.\"\"\"\n",
    "    if end >= start:\n",
    "        return end - start\n",
    "    else:\n",
    "        return 12 - start + end\n",
    "\n",
    "def reorder_ends(starts, ends, monthly_pct_change):\n",
    "    # Ensure inputs are lists of equal length\n",
    "    if len(starts) != len(ends):\n",
    "        print(starts, ends)\n",
    "        print(monthly_pct_change.lat.values, monthly_pct_change.lon.values)\n",
    "        raise ValueError(\"Starts and ends must be of equal length.\")\n",
    "    \n",
    "    reordered_ends = []  # To store the reordered ends\n",
    "    available_ends = ends.copy()  # Copy ends to manipulate\n",
    "\n",
    "    for start in starts:\n",
    "        # Calculate cyclic distances for each available end\n",
    "        distances = [(end, cyclic_distance(start, end)) for end in available_ends]\n",
    "        \n",
    "        # Find the end with the minimum positive cyclic distance to the start\n",
    "        closest_end = min(distances, key=lambda x: x[1])[0]\n",
    "        \n",
    "        reordered_ends.append(closest_end)\n",
    "        available_ends.remove(closest_end)  # Remove the selected end\n",
    "\n",
    "    return reordered_ends"
   ]
  },
  {
   "cell_type": "code",
   "execution_count": 8,
   "id": "a89a3945-3393-4239-bbb2-a06bcb97d93c",
   "metadata": {
    "tags": []
   },
   "outputs": [],
   "source": [
    "#def calculate_monthly_pct_change(lai_ts):\n",
    "#    monthly_pct_change = ((lai_ts - lai_ts.roll(month=1)) / lai_ts.roll(month=1)) * 100\n",
    "#    monthly_pct_change[0] = ((lai_ts[0] - lai_ts[-1]) / lai_ts[-1]) * 100\n",
    "#    return monthly_pct_change"
   ]
  },
  {
   "cell_type": "code",
   "execution_count": 9,
   "id": "ba7294a1-e6f2-4c28-a0da-612dc126fc1e",
   "metadata": {
    "tags": []
   },
   "outputs": [],
   "source": [
    "def handle_inf_values(monthly_pct_change):\n",
    "    for i in range(len(monthly_pct_change)):\n",
    "        if np.isinf(monthly_pct_change[i]):\n",
    "            # Find the previous finite change\n",
    "            prev_finite_index = i - 1\n",
    "            while prev_finite_index >= 0 and (np.isinf(monthly_pct_change[prev_finite_index]) or np.isnan(monthly_pct_change[prev_finite_index])):\n",
    "                prev_finite_index -= 1\n",
    "            \n",
    "            # Ensure loop wraps around if necessary\n",
    "            if prev_finite_index < 0:\n",
    "                prev_finite_index = len(monthly_pct_change) - 1\n",
    "                while np.isinf(monthly_pct_change[prev_finite_index]) or np.isnan(monthly_pct_change[prev_finite_index]):\n",
    "                    prev_finite_index -= 1\n",
    "                    if prev_finite_index < 0:\n",
    "                        # If all values are inf or NaN, break to avoid infinite loop\n",
    "                        return monthly_pct_change\n",
    "\n",
    "            # Find the next finite change\n",
    "            next_finite_index = (i + 1) % len(monthly_pct_change)\n",
    "            while next_finite_index != i and (np.isinf(monthly_pct_change[next_finite_index]) or np.isnan(monthly_pct_change[next_finite_index])):\n",
    "                next_finite_index = (next_finite_index + 1) % len(monthly_pct_change)\n",
    "            \n",
    "            # Set the inf value to the midpoint of the changes before and after\n",
    "            if not np.isinf(monthly_pct_change[prev_finite_index]) and not np.isinf(monthly_pct_change[next_finite_index]):\n",
    "                monthly_pct_change[i] = (monthly_pct_change[prev_finite_index] + monthly_pct_change[next_finite_index]) / 2\n",
    "            else:\n",
    "                # Fallback if no suitable values were found\n",
    "                monthly_pct_change[i] = 0\n",
    "\n",
    "    return monthly_pct_change\n",
    "\n",
    "def calculate_monthly_pct_change(lai_ts):\n",
    "    monthly_pct_change = ((lai_ts - lai_ts.roll(month=1)) / lai_ts.roll(month=1)) * 100\n",
    "    monthly_pct_change[0] = ((lai_ts[0] - lai_ts[-1]) / lai_ts[-1]) * 100\n",
    "    \n",
    "    # Replace NaN values with 0\n",
    "    monthly_pct_change = np.where(np.isnan(monthly_pct_change), 0, monthly_pct_change)\n",
    "    \n",
    "    # Handle inf values separately\n",
    "    monthly_pct_change = handle_inf_values(monthly_pct_change)\n",
    "    \n",
    "    return monthly_pct_change"
   ]
  },
  {
   "cell_type": "code",
   "execution_count": 10,
   "id": "688e0465-d620-4de0-ae18-ab999ab86b6a",
   "metadata": {
    "tags": []
   },
   "outputs": [],
   "source": [
    "def calculate_directional_change(lai_ts):\n",
    "    # Initialize an array of zeros with the same shape as lai_ts to store our results\n",
    "    directional_change = np.zeros_like(lai_ts)\n",
    "    \n",
    "    # Roll the array to compare each month to the previous month\n",
    "    prev_month_lai = np.roll(lai_ts, shift=1)\n",
    "    \n",
    "    # Calculate the change, avoiding division entirely\n",
    "    raw_change = lai_ts - prev_month_lai\n",
    "    \n",
    "    # Determine the direction of change (+1 for increase, -1 for decrease, 0 for no change)\n",
    "    directional_change = np.sign(raw_change)\n",
    "    \n",
    "    # Handling the first element manually since it compares the first and last elements\n",
    "    # If this behavior is not desired, set the first element to 0 or another placeholder\n",
    "    directional_change[0] = 0  # Or np.nan if you prefer it to be explicitly undefined\n",
    "    \n",
    "    return directional_change "
   ]
  },
  {
   "cell_type": "code",
   "execution_count": 11,
   "id": "6250b263-ee55-43c1-925f-ed3032e9c00b",
   "metadata": {},
   "outputs": [],
   "source": [
    "def detect_season_starts_and_ends(monthly_pct_change):\n",
    "    starts, ends = [], []\n",
    "    \n",
    "    # Check if December starts or ends a growing season \n",
    "    # STARTS\n",
    "    # Wenn November kleiner gleich 0 und December größer 0 beginnt die GS\n",
    "    if monthly_pct_change[-2] <= 0 and monthly_pct_change[-1] > 0:\n",
    "        starts.append(12) \n",
    "    # ENDS\n",
    "    # Wenn November größer 0 und December kleiner gleich 0 endet die GS\n",
    "    if monthly_pct_change[-2] > 0 and monthly_pct_change[-1] <= 0:\n",
    "        ends.append(12)\n",
    "    \n",
    "    #Check if January stats or ends a growing season\n",
    "    # STARTS\n",
    "    # Wenn Dezember kleiner gleich 0 und Januar größer Null beginnt die GS\n",
    "    if monthly_pct_change[-1] <= 0 and monthly_pct_change[0] > 0:\n",
    "        starts.append(1) \n",
    "    # ENDS\n",
    "    # Wenn Dezember größer 0 und Januar kleiner gleich 0\n",
    "    if monthly_pct_change[-1] > 0 and monthly_pct_change[0] <= 0:\n",
    "        ends.append(1)\n",
    "        \n",
    "    # Now handle February to November for starts and ends\n",
    "    for i in range(1, len(monthly_pct_change) - 1):\n",
    "        if monthly_pct_change[i-1] <= 0 and monthly_pct_change[i] > 0:\n",
    "            starts.append(i + 1)\n",
    "        elif monthly_pct_change[i-1] > 0 and monthly_pct_change[i] <= 0:\n",
    "            ends.append(i + 1)\n",
    "    \n",
    "    if len(starts) > 1 and len(ends) > 1:\n",
    "        ends = reorder_ends(starts, ends, monthly_pct_change)\n",
    "            \n",
    "    return starts, ends\n",
    "\n",
    "def calculate_season_length(starts, ends):\n",
    "    growing_season_length = 0\n",
    "    \n",
    "    # Calculate the growing season length(s)\n",
    "    if len(starts) > 1:\n",
    "        if any(end > starts[0] for end in ends):\n",
    "            closest_end = min(filter(lambda end: end > starts[0], ends), key=lambda end: end - starts[0], default=None)\n",
    "            growing_season_length = closest_end - starts[0]\n",
    "        else:\n",
    "            growing_season_length = min(ends) + (12 - starts[0])\n",
    "\n",
    "        if any(end > starts[1] for end in ends):\n",
    "            growing_season_length = growing_season_length + max(ends) - starts[1]\n",
    "        else:\n",
    "            growing_season_length = growing_season_length + min(ends) + (12 - starts[1])\n",
    "    elif len(starts) == 1:\n",
    "        if starts[0] < ends[0]:\n",
    "            growing_season_length = ends[0] - starts[0]\n",
    "        elif starts[0] > ends[0]:\n",
    "            growing_season_length = (12 - starts[0]) + ends[0]\n",
    "    \n",
    "    return growing_season_length"
   ]
  },
  {
   "cell_type": "markdown",
   "id": "6a1a5eff-03ff-4da6-ac9c-28ec84837ca9",
   "metadata": {
    "tags": []
   },
   "source": [
    "### 1. Load netCDF files"
   ]
  },
  {
   "cell_type": "code",
   "execution_count": 20,
   "id": "5ed78434-b6e7-40e6-8757-9b510711d1b0",
   "metadata": {
    "tags": []
   },
   "outputs": [
    {
     "name": "stdout",
     "output_type": "stream",
     "text": [
      "[########################################] | 100% Completed | 806.56 ms\n"
     ]
    }
   ],
   "source": [
    "# ========= Define period, models and path ==============\n",
    "data_state = 'processed'\n",
    "data_product = 'CMIP6'\n",
    "experiments = ['ssp370']\n",
    "temp_res = 'month'\n",
    "models = ['CESM2', 'CMCC-CM2-SR5', 'IPSL-CM6A-LR']#['BCC-CSM2-MR', 'CAMS-CSM1-0', 'CESM2-WACCM', 'CNRM-ESM2-1', 'GISS-E2-1-G', 'MIROC-ES2L', 'UKESM1-0-LL', 'CanESM5', 'CNRM-CM6-1',  'MPI-ESM1-2-LR', 'NorESM2-MM', 'TaiESM1'] #'GFDL-ESM4',\n",
    "variables=['lai']\n",
    "\n",
    "# Execute load function with Dask\n",
    "with ProgressBar():\n",
    "    ds_dict = dask.compute(ld.load_multiple_models_and_experiments(BASE_DIR, data_state, data_product, experiments, temp_res, models, variables))[0]"
   ]
  },
  {
   "cell_type": "code",
   "execution_count": 21,
   "id": "a50ba599-a0a1-44d0-b0dc-0aa579da8abc",
   "metadata": {
    "tags": []
   },
   "outputs": [
    {
     "name": "stdout",
     "output_type": "stream",
     "text": [
      "['ssp370']\n",
      "dict_keys(['CESM2', 'CMCC-CM2-SR5', 'IPSL-CM6A-LR'])\n"
     ]
    },
    {
     "data": {
      "text/plain": [
       "<matplotlib.collections.QuadMesh at 0x7ffb4eb8b670>"
      ]
     },
     "execution_count": 21,
     "metadata": {},
     "output_type": "execute_result"
    },
    {
     "data": {
      "image/png": "[encoded data removed]",
      "text/plain": [
       "<Figure size 640x480 with 2 Axes>"
      ]
     },
     "metadata": {},
     "output_type": "display_data"
    }
   ],
   "source": [
    "# ========= Have a look into the dictionary =======\n",
    "print(list(ds_dict.keys()))\n",
    "print(ds_dict[experiments[0]].keys())\n",
    "ds_dict[list(ds_dict.keys())[0]][models[0]][variables[0]].isel(time=2).plot()"
   ]
  },
  {
   "cell_type": "code",
   "execution_count": 22,
   "id": "c7b9d9e1-c692-4f95-b0fe-a481bb34ff57",
   "metadata": {
    "tags": []
   },
   "outputs": [],
   "source": [
    "ds_dict = pro_dat.select_period(ds_dict[experiments[0]], start_year=2071, end_year=2100)"
   ]
  },
  {
   "cell_type": "markdown",
   "id": "8d7bd495-de6f-4cb7-b4a3-65e11dbf0615",
   "metadata": {},
   "source": [
    "### Compute GSL"
   ]
  },
  {
   "cell_type": "code",
   "execution_count": null,
   "id": "32eae561-f0a2-44ef-9dfd-2ca722192f4b",
   "metadata": {
    "tags": []
   },
   "outputs": [
    {
     "name": "stdout",
     "output_type": "stream",
     "text": [
      "CESM2\n",
      "period: range(1, 13)\n"
     ]
    }
   ],
   "source": [
    "ds_dict = calculate_gsl(ds_dict, 'period') # period, winter, spring, summer, fall"
   ]
  },
  {
   "cell_type": "code",
   "execution_count": null,
   "id": "8ed2c419-a189-4dd9-b97f-8ea604aa5485",
   "metadata": {
    "tags": []
   },
   "outputs": [],
   "source": [
    "ds_dict[list(ds_dict.keys())[1]].gsl.plot()"
   ]
  },
  {
   "cell_type": "markdown",
   "id": "bc9b179d-f8b2-47d6-a85e-9aebd17146bb",
   "metadata": {},
   "source": [
    "### Save files"
   ]
  },
  {
   "cell_type": "code",
   "execution_count": null,
   "id": "cc5b2492-7d6d-4e3b-a58c-78cf1c3ba6a6",
   "metadata": {},
   "outputs": [],
   "source": [
    "# =========== Store file and remove any former one ==========\n",
    "# Base directory\n",
    "data_path = f'{data_state}/{data_product}/{experiments[0]}/{temp_res}/'\n",
    "file_path = os.path.join(BASE_DIR, data_path)\n",
    "print(file_path)"
   ]
  },
  {
   "cell_type": "code",
   "execution_count": 19,
   "id": "1356a5e9-7ff3-4386-8062-1b946888e0b5",
   "metadata": {},
   "outputs": [
    {
     "name": "stdout",
     "output_type": "stream",
     "text": [
      "File saved at: /work/ch0636/g300115/phd_project/common/data/processed/CMIP6/ssp370/month/gsl/CESM2.nc\n"
     ]
    }
   ],
   "source": [
    "sd.save_files(ds_dict, file_path)"
   ]
  },
  {
   "cell_type": "code",
   "execution_count": null,
   "id": "cb7852bd-a40c-4e48-b15f-ab3d01ada9d9",
   "metadata": {},
   "outputs": [],
   "source": []
  }
 ],
 "metadata": {
  "kernelspec": {
   "display_name": "mypy3",
   "language": "python",
   "name": "mypy3"
  },
  "language_info": {
   "codemirror_mode": {
    "name": "ipython",
    "version": 3
   },
   "file_extension": ".py",
   "mimetype": "text/x-python",
   "name": "python",
   "nbconvert_exporter": "python",
   "pygments_lexer": "ipython3",
   "version": "3.10.0"
  },
  "widgets": {
   "application/vnd.jupyter.widget-state+json": {
    "state": {},
    "version_major": 2,
    "version_minor": 0
   }
  }
 },
 "nbformat": 4,
 "nbformat_minor": 5
}
