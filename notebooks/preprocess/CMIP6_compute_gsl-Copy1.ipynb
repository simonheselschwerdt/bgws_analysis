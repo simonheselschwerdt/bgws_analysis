{
 "cells": [
  {
   "cell_type": "markdown",
   "id": "05fcb352-aecb-438c-9c68-b8bed66b5882",
   "metadata": {
    "tags": []
   },
   "source": [
    "# CMIP6 Compute GSL\n",
    "\n",
    "**Following steps are included in this script:**\n",
    "\n",
    "1. Load netCDF files\n",
    "2. Compute WUE\n",
    "\n",
    "Save and replace netcdf files"
   ]
  },
  {
   "cell_type": "code",
   "execution_count": 1,
   "id": "caece056-697a-4d0f-96ae-386db8e174d7",
   "metadata": {},
   "outputs": [],
   "source": [
    "# ========== Packages ==========\n",
    "import xarray as xr\n",
    "import pandas as pd\n",
    "import numpy as np\n",
    "import dask\n",
    "import os\n",
    "import glob\n",
    "import copy\n",
    "\n",
    "import matplotlib.pyplot as plt\n",
    "\n",
    "%matplotlib inline"
   ]
  },
  {
   "cell_type": "markdown",
   "id": "3eee0a20-d3fb-4b31-a87c-2f5db6f99597",
   "metadata": {
    "tags": []
   },
   "source": [
    "### Functions"
   ]
  },
  {
   "cell_type": "code",
   "execution_count": 2,
   "id": "9b137b48-0830-4531-a74f-3859fb9219e4",
   "metadata": {
    "tags": []
   },
   "outputs": [],
   "source": [
    "def select_period(ds_dict, start_year=None, end_year=None, period=None, yearly_sum=False):\n",
    "    '''\n",
    "    Helper function to select periods and optionally compute yearly sums.\n",
    "    \n",
    "    Parameters:\n",
    "    ds_dict (dict): Dictionary with xarray datasets.\n",
    "    start_year (int): The start year of the period.\n",
    "    end_year (int): The end year of the period.\n",
    "    period (int, list, str, None): Single month (int), list of months (list), multiple seasons (str) to select,\n",
    "                                   or None to not select any specific period.\n",
    "    yearly_sum (bool): If True, compute the yearly sum over the selected period.\n",
    "    '''\n",
    "    \n",
    "    # Create a deep copy of the original ds_dict to avoid modifying it directly\n",
    "    ds_dict_copy = copy.deepcopy(ds_dict)\n",
    "\n",
    "    # Define season to month mapping for northern hemisphere\n",
    "    seasons_to_months = {\n",
    "        'nh_winter': [12, 1, 2],\n",
    "        'nh_spring': [3, 4, 5],\n",
    "        'nh_summer': [6, 7, 8],\n",
    "        'nh_fall': [9, 10, 11]\n",
    "    }\n",
    "    \n",
    "    # Define month name mapping\n",
    "    month_names = {\n",
    "        1: 'J', 2: 'F', 3: 'M', 4: 'A', 5: 'M', 6: 'J',\n",
    "        7: 'J', 8: 'A', 9: 'S', 10: 'O', 11: 'N', 12: 'D'\n",
    "    }\n",
    "\n",
    "    # Define number of days per month (assuming 28 days for February)\n",
    "    days_per_month = {\n",
    "        1: 31, 2: 28, 3: 31, 4: 30, 5: 31, 6: 30,\n",
    "        7: 31, 8: 31, 9: 30, 10: 31, 11: 30, 12: 31\n",
    "    }\n",
    "\n",
    "    months = []\n",
    "\n",
    "    # If no specific period is selected, all data will be used.\n",
    "    if period is None:\n",
    "        period_name = 'whole_year'\n",
    "        months = list(range(1, 13))  # All months\n",
    "    elif isinstance(period, int):\n",
    "        period_name = month_names[period]\n",
    "        months = [period]\n",
    "    elif isinstance(period, str):\n",
    "        # Check if the input is a single season or multiple seasons\n",
    "        if 'and' in period:\n",
    "            seasons = period.lower().split('and')\n",
    "            period_name = ''\n",
    "            for season in seasons:\n",
    "                season = season.strip()\n",
    "                months.extend(seasons_to_months.get(season, []))\n",
    "                period_name += ''.join(month_names[m] for m in seasons_to_months.get(season, []))\n",
    "        else:\n",
    "            months = seasons_to_months.get(period.lower(), [])\n",
    "            period_name = ''.join(month_names[m] for m in months)\n",
    "    elif isinstance(period, list):\n",
    "        period_name = ''.join(month_names[m] for m in period if m in month_names)\n",
    "        months = period\n",
    "    else:\n",
    "        raise ValueError(\"Period must be None, an integer, a string representing a single season, \"\n",
    "                         \"a string with multiple seasons separated by 'and', or a list of integers.\")\n",
    "\n",
    "    for k, ds in ds_dict_copy.items():\n",
    "        if start_year and end_year:\n",
    "            start_date = f'{start_year}-01-01'\n",
    "            end_date = f'{end_year}-12-31'\n",
    "            ds = ds.sel(time=slice(start_date, end_date))\n",
    "\n",
    "        # If months are specified, select those months\n",
    "        if months:\n",
    "            month_mask = ds['time.month'].isin(months)\n",
    "            ds = ds.where(month_mask, drop=True)\n",
    "\n",
    "        # Store the original attributes of each variable\n",
    "        original_attrs = {var: ds[var].attrs for var in ds.data_vars}\n",
    "\n",
    "        # If yearly_sum is True, sum over 'time' dimension to get yearly sum\n",
    "        if yearly_sum: # does only make sense for accumulative variables e.g. pr or tran\n",
    "            attrs = ds.attrs\n",
    "            # Multiply each value by the number of days in the respective month\n",
    "            days = ds['time'].dt.days_in_month\n",
    "            ds = (ds * days).resample(time='AS').sum(dim='time')\n",
    "            sum_type = 'yearly_sum'\n",
    "            ds.attrs = attrs\n",
    "        else:\n",
    "            sum_type = 'monthly_mean'\n",
    "\n",
    "        # Reassign the original attributes back to each variable\n",
    "        for var in ds.data_vars:\n",
    "            ds[var].attrs = original_attrs[var]\n",
    "\n",
    "        ds_dict_copy[k] = ds\n",
    "        ds_dict_copy[k].attrs['months'] = period_name\n",
    "        ds_dict_copy[k].attrs['yearly_sum'] = sum_type\n",
    "\n",
    "    return ds_dict_copy"
   ]
  },
  {
   "cell_type": "code",
   "execution_count": 3,
   "id": "5be9fffb-bb25-4162-ad70-d13a70420245",
   "metadata": {},
   "outputs": [],
   "source": [
    "# ========= Create a helper function to open the dataset ========\n",
    "def open_dataset(filename):\n",
    "    ds = xr.open_dataset(filename)\n",
    "    return ds\n",
    "\n",
    "# Define a helper function to open and merge datasets\n",
    "def open_and_merge_datasets(folder, model, experiment_id, temp_res, variables):\n",
    "    filepaths = []\n",
    "    for var in variables:\n",
    "        path = f'../../data/CMIP6/{experiment_id}/{folder}/{temp_res}/{var}'\n",
    "        fp = glob.glob(os.path.join(path, f'CMIP.{model}.{experiment_id}.{var}.regridded.nc'))\n",
    "        if fp:\n",
    "            filepaths.append(fp[0])\n",
    "        else:\n",
    "            print(f\"No file found for variable '{var}' in model '{model}'.\")\n",
    "            print(fp)\n",
    "\n",
    "    datasets = [xr.open_dataset(fp) for fp in filepaths]\n",
    "    ds = xr.merge(datasets)\n",
    "    return ds"
   ]
  },
  {
   "cell_type": "code",
   "execution_count": 4,
   "id": "ec615c46-3b33-4cf0-af79-1519dae7cd23",
   "metadata": {},
   "outputs": [],
   "source": [
    "def calculate_monthly_mean(ds, variable):\n",
    "    \"\"\"\n",
    "    Calculate the mean for each month across all years for a given variable in the dataset.\n",
    "\n",
    "    Parameters:\n",
    "    ds (xarray.Dataset): The input dataset.\n",
    "    variable (str): The name of the variable to calculate the monthly mean for.\n",
    "\n",
    "    Returns:\n",
    "    xarray.Dataset: A dataset containing the monthly mean for the specified variable.\n",
    "    \"\"\"\n",
    "    # Calculate the monthly mean\n",
    "    monthly_means = ds[variable].groupby('time.month').mean('time')\n",
    "\n",
    "    # Create a new dataset for the monthly means\n",
    "    monthly_mean_ds = xr.Dataset({variable: monthly_means})\n",
    "\n",
    "    # Copy attributes from the original dataset and variable\n",
    "    monthly_mean_ds.attrs = ds.attrs\n",
    "    monthly_mean_ds[variable].attrs = ds[variable].attrs\n",
    "    monthly_mean_ds[variable].attrs['description'] = f'Monthly mean of {variable}'\n",
    "\n",
    "    return monthly_mean_ds"
   ]
  },
  {
   "cell_type": "code",
   "execution_count": 5,
   "id": "5a176abd-6afd-487e-a4cf-1d225226fad2",
   "metadata": {
    "tags": []
   },
   "outputs": [],
   "source": [
    "def calculate_gsl(ds_dict, season='all'):\n",
    "    for name, ds in ds_dict.items():\n",
    "        print(ds.source_id)\n",
    "        monthly_mean_ds = calculate_monthly_mean(ds, 'lai')\n",
    "        gsl_ds = calculate_growing_season_length(monthly_mean_ds, season=season)\n",
    "        ds_dict[name] = gsl_ds\n",
    "        \n",
    "    return ds_dict"
   ]
  },
  {
   "cell_type": "code",
   "execution_count": 6,
   "id": "c1abdfa9-14ad-491d-b46f-ff5ee5fd34df",
   "metadata": {
    "tags": []
   },
   "outputs": [],
   "source": [
    "def calculate_growing_season_length(ds_monthly_mean, season):\n",
    "    lai = ds_monthly_mean['lai']\n",
    "\n",
    "    # Create a DataArray for storing the growing season length\n",
    "    growing_season_length = xr.DataArray(\n",
    "        np.nan, \n",
    "        dims=('lat', 'lon'), \n",
    "        coords={'lat': ds_monthly_mean.lat, 'lon': ds_monthly_mean.lon}\n",
    "    )\n",
    "    \n",
    "    seasons_to_months = {\n",
    "        'winter': [12, 1, 2],\n",
    "        'spring': [3, 4, 5],\n",
    "        'summer': [6, 7, 8],\n",
    "        'fall': [9, 10, 11],\n",
    "        'period': range(1, 13)\n",
    "    }\n",
    "    \n",
    "    selected_months = seasons_to_months[season]\n",
    "    \n",
    "    print(f'{season}: {selected_months}')\n",
    "\n",
    "    for lat in ds_monthly_mean.lat.values:\n",
    "        for lon in ds_monthly_mean.lon.values:\n",
    "            lai_ts = lai.sel(lat=lat, lon=lon)\n",
    "\n",
    "            # Check if the LAI time series is entirely NaN (ocean cell)\n",
    "            if lai_ts.isnull().all():\n",
    "                continue  # Skip this cell, it remains NaN in growing_season_length\n",
    "\n",
    "            monthly_pct_change = calculate_monthly_pct_change(lai_ts)\n",
    "            starts, ends = detect_season_starts_and_ends(monthly_pct_change)\n",
    "            if season == 'winter':\n",
    "                length = winter_gsl_algorithm(starts, ends, selected_months)\n",
    "            elif season == 'period':\n",
    "                length = calculate_season_length(starts, ends)\n",
    "            else:\n",
    "                length = gsl_algorithm(starts, ends, selected_months)\n",
    "            growing_season_length.loc[dict(lat=lat, lon=lon)] = length\n",
    "\n",
    "    # Create a new dataset for the growing season length\n",
    "    ds_growing_season_length = xr.Dataset()\n",
    "    ds_growing_season_length[f'growing_season_length_{season}'] = growing_season_length\n",
    "    ds_growing_season_length[f'growing_season_length_{season}'].attrs = {\n",
    "        'description': f'Length of the growing season in months for {season}',\n",
    "        'calculated_from': 'LAI',\n",
    "        'season': season,\n",
    "        'units': '',\n",
    "        'long_name': 'Growing Season Length' \n",
    "    }\n",
    "    \n",
    "    ds_growing_season_length.attrs = ds_monthly_mean.attrs\n",
    "    ds_growing_season_length.attrs['table_id'] = season\n",
    "    \n",
    "\n",
    "    return ds_growing_season_length"
   ]
  },
  {
   "cell_type": "code",
   "execution_count": 7,
   "id": "f505c680-0370-434b-adb4-c362bf35301a",
   "metadata": {
    "tags": []
   },
   "outputs": [],
   "source": [
    "def winter_gsl_algorithm(starts, ends, selected_months):\n",
    "     # Set december to month number 0\n",
    "    # Adjust starts and ends lists if December is present, setting it to month number 0\n",
    "    # and ensuring selected_months reflects winter months [0, 1, 2]\n",
    "    starts = [0 if month == 12 else month for month in starts]\n",
    "    ends = [0 if month == 12 else month for month in ends]\n",
    "\n",
    "    # If any start or end was adjusted to 0, indicating December was present,\n",
    "    # then set selected_months for winter\n",
    "    if 0 in starts or 0 in ends:\n",
    "        selected_months = [0, 1, 2]\n",
    "    \n",
    "    total_growing_season_length = 0\n",
    "    \n",
    "    for start, end in zip(starts, ends): \n",
    "        # Start in SM & End in SM\n",
    "        if start in selected_months and end in selected_months:\n",
    "            if start < end:\n",
    "                growing_season_length = end - start\n",
    "            elif start > end:\n",
    "                if start == 1:\n",
    "                    growing_season_length = 2\n",
    "                else:\n",
    "                    growing_season_length = (2 - start + 1) + (end)\n",
    "        # Start in SM & End not\n",
    "        elif start in selected_months and end not in selected_months:\n",
    "            position = selected_months.index(start)\n",
    "            growing_season_length = len(selected_months) - (position)\n",
    "        # End in SM & Start not\n",
    "        elif start not in selected_months and end in selected_months:\n",
    "            selected_months.reverse()\n",
    "            position = selected_months.index(end)\n",
    "            growing_season_length = max(0, len(selected_months) - position - 1)\n",
    "            selected_months.reverse()\n",
    "        # Start not in SM & End not in SM\n",
    "        elif start not in selected_months and end not in selected_months:\n",
    "            if start <= end: \n",
    "                growing_season_length = 0\n",
    "            elif start > end: \n",
    "                growing_season_length = 3\n",
    "        # Combination missing\n",
    "        else:\n",
    "            raise ValueError(\"The start and end combination for the growing season is missing or invalid.\")\n",
    "        \n",
    "        total_growing_season_length += growing_season_length\n",
    "\n",
    "    # Revert starts and ends from 0 to 12 if they were previously adjusted to represent December\n",
    "    starts = [12 if month == 0 else month for month in starts]\n",
    "    ends = [12 if month == 0 else month for month in ends]\n",
    "\n",
    "    # If December (12) is now present in starts or ends, adjust selected_months for winter\n",
    "    if 12 in starts or 12 in ends:\n",
    "        selected_months = [12, 1, 2]\n",
    "    \n",
    "    return total_growing_season_length"
   ]
  },
  {
   "cell_type": "code",
   "execution_count": 8,
   "id": "acd5580f-f669-49d1-927c-6255a03bcc28",
   "metadata": {
    "tags": []
   },
   "outputs": [],
   "source": [
    "def gsl_algorithm(starts, ends, selected_months):\n",
    "    \n",
    "    total_growing_season_length = 0\n",
    "    \n",
    "    for start, end in zip(starts, ends):\n",
    "        # Start in SM & End in SM\n",
    "        if start in selected_months and end in selected_months:\n",
    "            if start < end:\n",
    "                growing_season_length = end - start\n",
    "            elif start > end:\n",
    "                growing_season_length = (2 - start + 1) + (end)\n",
    "        # Start in SM & End not\n",
    "        elif start in selected_months and end not in selected_months:\n",
    "            position = selected_months.index(start)\n",
    "            growing_season_length = len(selected_months) - (position)\n",
    "        # End in SM & Start not\n",
    "        elif start not in selected_months and end in selected_months:\n",
    "            selected_months.reverse()\n",
    "            position = selected_months.index(end)\n",
    "            growing_season_length = max(0, len(selected_months) - position - 1)\n",
    "            selected_months.reverse()\n",
    "        # Start not in SM & End not in SM\n",
    "        elif start not in selected_months and end not in selected_months:\n",
    "            if start == end: \n",
    "                growing_season_length = 0\n",
    "            if start < end or start > end: \n",
    "                if end < min(selected_months):\n",
    "                    growing_season_length = 0\n",
    "                elif end > max(selected_months) and start > max(selected_months):\n",
    "                    growing_season_length = 0\n",
    "                else:\n",
    "                    growing_season_length = 3\n",
    "        else:\n",
    "            raise ValueError(\"The start and end combination for the growing season is missing or invalid.\")\n",
    "            \n",
    "        total_growing_season_length += growing_season_length\n",
    "        \n",
    "    return total_growing_season_length"
   ]
  },
  {
   "cell_type": "code",
   "execution_count": 9,
   "id": "0a5b8bb2-4408-439b-9676-d7f393116c6e",
   "metadata": {
    "tags": []
   },
   "outputs": [],
   "source": [
    "def cyclic_distance(start, end):\n",
    "    \"\"\"Calculate the cyclic distance from start to end considering a wrap around from 12 to 1.\"\"\"\n",
    "    if end >= start:\n",
    "        return end - start\n",
    "    else:\n",
    "        return 12 - start + end\n",
    "\n",
    "def reorder_ends(starts, ends, monthly_pct_change):\n",
    "    # Ensure inputs are lists of equal length\n",
    "    if len(starts) != len(ends):\n",
    "        print(starts, ends)\n",
    "        print(monthly_pct_change.lat.values, monthly_pct_change.lon.values)\n",
    "        raise ValueError(\"Starts and ends must be of equal length.\")\n",
    "    \n",
    "    reordered_ends = []  # To store the reordered ends\n",
    "    available_ends = ends.copy()  # Copy ends to manipulate\n",
    "\n",
    "    for start in starts:\n",
    "        # Calculate cyclic distances for each available end\n",
    "        distances = [(end, cyclic_distance(start, end)) for end in available_ends]\n",
    "        \n",
    "        # Find the end with the minimum positive cyclic distance to the start\n",
    "        closest_end = min(distances, key=lambda x: x[1])[0]\n",
    "        \n",
    "        reordered_ends.append(closest_end)\n",
    "        available_ends.remove(closest_end)  # Remove the selected end\n",
    "\n",
    "    return reordered_ends"
   ]
  },
  {
   "cell_type": "code",
   "execution_count": 10,
   "id": "a89a3945-3393-4239-bbb2-a06bcb97d93c",
   "metadata": {
    "tags": []
   },
   "outputs": [],
   "source": [
    "#def calculate_monthly_pct_change(lai_ts):\n",
    "#    monthly_pct_change = ((lai_ts - lai_ts.roll(month=1)) / lai_ts.roll(month=1)) * 100\n",
    "#    monthly_pct_change[0] = ((lai_ts[0] - lai_ts[-1]) / lai_ts[-1]) * 100\n",
    "#    return monthly_pct_change"
   ]
  },
  {
   "cell_type": "code",
   "execution_count": 11,
   "id": "ba7294a1-e6f2-4c28-a0da-612dc126fc1e",
   "metadata": {
    "tags": []
   },
   "outputs": [],
   "source": [
    "def handle_inf_values(monthly_pct_change):\n",
    "    for i in range(len(monthly_pct_change)):\n",
    "        if np.isinf(monthly_pct_change[i]):\n",
    "            # Find the previous finite change\n",
    "            prev_finite_index = i - 1\n",
    "            while prev_finite_index >= 0 and (np.isinf(monthly_pct_change[prev_finite_index]) or np.isnan(monthly_pct_change[prev_finite_index])):\n",
    "                prev_finite_index -= 1\n",
    "            \n",
    "            # Ensure loop wraps around if necessary\n",
    "            if prev_finite_index < 0:\n",
    "                prev_finite_index = len(monthly_pct_change) - 1\n",
    "                while np.isinf(monthly_pct_change[prev_finite_index]) or np.isnan(monthly_pct_change[prev_finite_index]):\n",
    "                    prev_finite_index -= 1\n",
    "                    if prev_finite_index < 0:\n",
    "                        # If all values are inf or NaN, break to avoid infinite loop\n",
    "                        return monthly_pct_change\n",
    "\n",
    "            # Find the next finite change\n",
    "            next_finite_index = (i + 1) % len(monthly_pct_change)\n",
    "            while next_finite_index != i and (np.isinf(monthly_pct_change[next_finite_index]) or np.isnan(monthly_pct_change[next_finite_index])):\n",
    "                next_finite_index = (next_finite_index + 1) % len(monthly_pct_change)\n",
    "            \n",
    "            # Set the inf value to the midpoint of the changes before and after\n",
    "            if not np.isinf(monthly_pct_change[prev_finite_index]) and not np.isinf(monthly_pct_change[next_finite_index]):\n",
    "                monthly_pct_change[i] = (monthly_pct_change[prev_finite_index] + monthly_pct_change[next_finite_index]) / 2\n",
    "            else:\n",
    "                # Fallback if no suitable values were found\n",
    "                monthly_pct_change[i] = 0\n",
    "\n",
    "    return monthly_pct_change\n",
    "\n",
    "def calculate_monthly_pct_change(lai_ts):\n",
    "    monthly_pct_change = ((lai_ts - lai_ts.roll(month=1)) / lai_ts.roll(month=1)) * 100\n",
    "    monthly_pct_change[0] = ((lai_ts[0] - lai_ts[-1]) / lai_ts[-1]) * 100\n",
    "    \n",
    "    # Replace NaN values with 0\n",
    "    monthly_pct_change = np.where(np.isnan(monthly_pct_change), 0, monthly_pct_change)\n",
    "    \n",
    "    # Handle inf values separately\n",
    "    monthly_pct_change = handle_inf_values(monthly_pct_change)\n",
    "    \n",
    "    return monthly_pct_change"
   ]
  },
  {
   "cell_type": "code",
   "execution_count": 12,
   "id": "688e0465-d620-4de0-ae18-ab999ab86b6a",
   "metadata": {
    "tags": []
   },
   "outputs": [],
   "source": [
    "def calculate_directional_change(lai_ts):\n",
    "    # Initialize an array of zeros with the same shape as lai_ts to store our results\n",
    "    directional_change = np.zeros_like(lai_ts)\n",
    "    \n",
    "    # Roll the array to compare each month to the previous month\n",
    "    prev_month_lai = np.roll(lai_ts, shift=1)\n",
    "    \n",
    "    # Calculate the change, avoiding division entirely\n",
    "    raw_change = lai_ts - prev_month_lai\n",
    "    \n",
    "    # Determine the direction of change (+1 for increase, -1 for decrease, 0 for no change)\n",
    "    directional_change = np.sign(raw_change)\n",
    "    \n",
    "    # Handling the first element manually since it compares the first and last elements\n",
    "    # If this behavior is not desired, set the first element to 0 or another placeholder\n",
    "    directional_change[0] = 0  # Or np.nan if you prefer it to be explicitly undefined\n",
    "    \n",
    "    return directional_change "
   ]
  },
  {
   "cell_type": "code",
   "execution_count": 13,
   "id": "6250b263-ee55-43c1-925f-ed3032e9c00b",
   "metadata": {},
   "outputs": [],
   "source": [
    "def detect_season_starts_and_ends(monthly_pct_change):\n",
    "    starts, ends = [], []\n",
    "    \n",
    "    # Check if December starts or ends a growing season \n",
    "    # STARTS\n",
    "    # Wenn November kleiner gleich 0 und December größer 0 beginnt die GS\n",
    "    if monthly_pct_change[-2] <= 0 and monthly_pct_change[-1] > 0:\n",
    "        starts.append(12) \n",
    "    # ENDS\n",
    "    # Wenn November größer 0 und December kleiner gleich 0 endet die GS\n",
    "    if monthly_pct_change[-2] > 0 and monthly_pct_change[-1] <= 0:\n",
    "        ends.append(12)\n",
    "    \n",
    "    #Check if January stats or ends a growing season\n",
    "    # STARTS\n",
    "    # Wenn Dezember kleiner gleich 0 und Januar größer Null beginnt die GS\n",
    "    if monthly_pct_change[-1] <= 0 and monthly_pct_change[0] > 0:\n",
    "        starts.append(1) \n",
    "    # ENDS\n",
    "    # Wenn Dezember größer 0 und Januar kleiner gleich 0\n",
    "    if monthly_pct_change[-1] > 0 and monthly_pct_change[0] <= 0:\n",
    "        ends.append(1)\n",
    "        \n",
    "    # Now handle February to November for starts and ends\n",
    "    for i in range(1, len(monthly_pct_change) - 1):\n",
    "        if monthly_pct_change[i-1] <= 0 and monthly_pct_change[i] > 0:\n",
    "            starts.append(i + 1)\n",
    "        elif monthly_pct_change[i-1] > 0 and monthly_pct_change[i] <= 0:\n",
    "            ends.append(i + 1)\n",
    "    \n",
    "    if len(starts) > 1 and len(ends) > 1:\n",
    "        ends = reorder_ends(starts, ends, monthly_pct_change)\n",
    "            \n",
    "    return starts, ends\n",
    "\n",
    "def calculate_season_length(starts, ends):\n",
    "    growing_season_length = 0\n",
    "    \n",
    "    # Calculate the growing season length(s)\n",
    "    if len(starts) > 1:\n",
    "        if any(end > starts[0] for end in ends):\n",
    "            closest_end = min(filter(lambda end: end > starts[0], ends), key=lambda end: end - starts[0], default=None)\n",
    "            growing_season_length = closest_end - starts[0]\n",
    "        else:\n",
    "            growing_season_length = min(ends) + (12 - starts[0])\n",
    "\n",
    "        if any(end > starts[1] for end in ends):\n",
    "            growing_season_length = growing_season_length + max(ends) - starts[1]\n",
    "        else:\n",
    "            growing_season_length = growing_season_length + min(ends) + (12 - starts[1])\n",
    "    elif len(starts) == 1:\n",
    "        if starts[0] < ends[0]:\n",
    "            growing_season_length = ends[0] - starts[0]\n",
    "        elif starts[0] > ends[0]:\n",
    "            growing_season_length = (12 - starts[0]) + ends[0]\n",
    "    \n",
    "    return growing_season_length"
   ]
  },
  {
   "cell_type": "code",
   "execution_count": 14,
   "id": "7fb0640f-d5e9-43d9-9618-451f3e859731",
   "metadata": {},
   "outputs": [],
   "source": [
    "def save_file(save_file, folder, save_var=True):\n",
    "    \"\"\"\n",
    "    Save files as netCDF.\n",
    "\n",
    "    Args:\n",
    "        savefile (dict or dataset): Dictionary of xarray datasets or dataset.\n",
    "        folder (string): Name of folder data is saved in.\n",
    "        save_var (boolean): If True, data is saved separately for each variable. If false, one file is saved with all variables.\n",
    "        \n",
    "\n",
    "    Returns:\n",
    "        nc_out: Path were data is saved in.\n",
    "    \"\"\"\n",
    "    \n",
    "    if save_var:\n",
    "        for key, ds in ds_dict.items():\n",
    "            for var in ds:\n",
    "                # Variable to keep\n",
    "                variable_to_keep = var\n",
    "                dimensions_to_keep = {'time', 'lat', 'lon'}\n",
    "                coordinates_to_keep = {'time', 'lat', 'lon'}\n",
    "\n",
    "                if any('depth' in ds[var].dims for var in ds.variables):\n",
    "                    dimensions_to_keep.add('depth')\n",
    "                    coordinates_to_keep.add('depth')\n",
    "\n",
    "                # Create a new dataset with only the desired variable\n",
    "                ds_var = ds[[variable_to_keep]]\n",
    "\n",
    "                # Keep only the desired dimensions\n",
    "                ds_var = ds_var.isel({dim: slice(None) for dim in dimensions_to_keep.intersection(ds_var.dims)})\n",
    "\n",
    "                # Set the desired coordinates\n",
    "                coords_to_set = set(ds_var.variables).intersection(coordinates_to_keep)\n",
    "                ds_var = ds_var.set_coords(list(coords_to_set))\n",
    "\n",
    "                savepath = f'../../data/CMIP6/{ds_var.experiment_id}/{folder}/{ds_var.table_id}/{var}/'\n",
    "                filename = f'CMIP.{ds_var.source_id}.{ds_var.experiment_id}.{var}.regridded.nc'\n",
    "                nc_out = os.path.join(savepath, filename)\n",
    "                os.makedirs(savepath, exist_ok=True) \n",
    "                if os.path.exists(nc_out):\n",
    "                    os.remove(nc_out)\n",
    "                    print(f\"File  with path: {nc_out} removed\")\n",
    "                    \n",
    "                # Save to netcdf file\n",
    "                with dask.config.set(scheduler='threads'):\n",
    "                    ds_var.to_netcdf(nc_out)\n",
    "                    print(f\"File with path: {nc_out} saved\")\n",
    "\n",
    "    return nc_out"
   ]
  },
  {
   "cell_type": "markdown",
   "id": "6a1a5eff-03ff-4da6-ac9c-28ec84837ca9",
   "metadata": {
    "tags": []
   },
   "source": [
    "### 1. Load netCDF files"
   ]
  },
  {
   "cell_type": "code",
   "execution_count": 24,
   "id": "5ed78434-b6e7-40e6-8757-9b510711d1b0",
   "metadata": {
    "tags": []
   },
   "outputs": [],
   "source": [
    "# ========= Define period, models and path ==============\n",
    "variables=['lai']\n",
    "folder='preprocessed'\n",
    "temp_res = 'month'\n",
    "\n",
    "# ========= Use Dask to parallelize computations ==========\n",
    "dask.config.set(scheduler='processes')\n",
    "\n",
    "# Create dictionary using a dictionary comprehension and Dask\n",
    "#experiment_id = 'historical'\n",
    "#source_id = ['BCC-CSM2-MR', 'CAMS-CSM1-0', 'CanESM5-CanOE', 'CanESM5', 'CESM2-WACCM','CNRM-CM6-1', 'CNRM-ESM2-1','GFDL-ESM4','GISS-E2-1-G','MIROC-ES2L', 'MPI-ESM1-2-LR','NorESM2-MM','TaiESM1','UKESM1-0-LL']\n",
    "#ds_dict = dask.compute({model: open_and_merge_datasets(folder, model, experiment_id, temp_res, variables) for model in source_id})[0]\n",
    "\n",
    "experiment_id = 'ssp585'\n",
    "source_id = ['BCC-CSM2-MR', 'CAMS-CSM1-0', 'CanESM5-CanOE', 'CanESM5', 'CNRM-CM6-1', 'CNRM-ESM2-1','GFDL-ESM4','GISS-E2-1-G','MIROC-ES2L', 'MPI-ESM1-2-LR','UKESM1-0-LL']\n",
    "ds_dict = dask.compute({model: open_and_merge_datasets(folder, model, experiment_id, temp_res, variables) for model in source_id})[0]"
   ]
  },
  {
   "cell_type": "code",
   "execution_count": null,
   "id": "a50ba599-a0a1-44d0-b0dc-0aa579da8abc",
   "metadata": {
    "tags": []
   },
   "outputs": [],
   "source": [
    "# ========= Have a look into the dictionary =======\n",
    "print(list(ds_dict.keys()))\n",
    "ds_dict[list(ds_dict.keys())[0]].table_id"
   ]
  },
  {
   "cell_type": "code",
   "execution_count": 25,
   "id": "c7b9d9e1-c692-4f95-b0fe-a481bb34ff57",
   "metadata": {
    "tags": []
   },
   "outputs": [],
   "source": [
    "ds_dict = select_period(ds_dict, start_year=2071, end_year=2100)"
   ]
  },
  {
   "cell_type": "markdown",
   "id": "8d7bd495-de6f-4cb7-b4a3-65e11dbf0615",
   "metadata": {},
   "source": [
    "### Compute GSL"
   ]
  },
  {
   "cell_type": "code",
   "execution_count": 26,
   "id": "32eae561-f0a2-44ef-9dfd-2ca722192f4b",
   "metadata": {
    "tags": []
   },
   "outputs": [
    {
     "name": "stdout",
     "output_type": "stream",
     "text": [
      "BCC-CSM2-MR\n",
      "spring: [3, 4, 5]\n",
      "CAMS-CSM1-0\n",
      "spring: [3, 4, 5]\n",
      "CanESM5-CanOE\n",
      "spring: [3, 4, 5]\n",
      "CanESM5\n",
      "spring: [3, 4, 5]\n",
      "CNRM-CM6-1\n",
      "spring: [3, 4, 5]\n",
      "CNRM-ESM2-1\n",
      "spring: [3, 4, 5]\n",
      "GFDL-ESM4\n",
      "spring: [3, 4, 5]\n",
      "GISS-E2-1-G\n",
      "spring: [3, 4, 5]\n",
      "MIROC-ES2L\n",
      "spring: [3, 4, 5]\n",
      "MPI-ESM1-2-LR\n",
      "spring: [3, 4, 5]\n",
      "UKESM1-0-LL\n",
      "spring: [3, 4, 5]\n"
     ]
    }
   ],
   "source": [
    "ds_dict = calculate_gsl(ds_dict, 'spring') # period, winter, spring, summer, fall"
   ]
  },
  {
   "cell_type": "code",
   "execution_count": 28,
   "id": "8ed2c419-a189-4dd9-b97f-8ea604aa5485",
   "metadata": {
    "tags": []
   },
   "outputs": [
    {
     "data": {
      "text/plain": [
       "<matplotlib.collections.QuadMesh at 0x7ffb6d12b400>"
      ]
     },
     "execution_count": 28,
     "metadata": {},
     "output_type": "execute_result"
    },
    {
     "data": {
      "image/png": "[encoded data removed]",
      "text/plain": [
       "<Figure size 640x480 with 2 Axes>"
      ]
     },
     "metadata": {},
     "output_type": "display_data"
    }
   ],
   "source": [
    "ds_dict[list(ds_dict.keys())[10]].growing_season_length_spring.plot()"
   ]
  },
  {
   "cell_type": "markdown",
   "id": "bc9b179d-f8b2-47d6-a85e-9aebd17146bb",
   "metadata": {},
   "source": [
    "### Save files"
   ]
  },
  {
   "cell_type": "code",
   "execution_count": 27,
   "id": "1356a5e9-7ff3-4386-8062-1b946888e0b5",
   "metadata": {},
   "outputs": [
    {
     "name": "stdout",
     "output_type": "stream",
     "text": [
      "File with path: ../../data/CMIP6/ssp585/preprocessed/spring/growing_season_length_spring/CMIP.BCC-CSM2-MR.ssp585.growing_season_length_spring.regridded.nc saved\n",
      "File with path: ../../data/CMIP6/ssp585/preprocessed/spring/growing_season_length_spring/CMIP.CAMS-CSM1-0.ssp585.growing_season_length_spring.regridded.nc saved\n",
      "File with path: ../../data/CMIP6/ssp585/preprocessed/spring/growing_season_length_spring/CMIP.CanESM5-CanOE.ssp585.growing_season_length_spring.regridded.nc saved\n",
      "File with path: ../../data/CMIP6/ssp585/preprocessed/spring/growing_season_length_spring/CMIP.CanESM5.ssp585.growing_season_length_spring.regridded.nc saved\n",
      "File with path: ../../data/CMIP6/ssp585/preprocessed/spring/growing_season_length_spring/CMIP.CNRM-CM6-1.ssp585.growing_season_length_spring.regridded.nc saved\n",
      "File with path: ../../data/CMIP6/ssp585/preprocessed/spring/growing_season_length_spring/CMIP.CNRM-ESM2-1.ssp585.growing_season_length_spring.regridded.nc saved\n",
      "File with path: ../../data/CMIP6/ssp585/preprocessed/spring/growing_season_length_spring/CMIP.GFDL-ESM4.ssp585.growing_season_length_spring.regridded.nc saved\n",
      "File with path: ../../data/CMIP6/ssp585/preprocessed/spring/growing_season_length_spring/CMIP.GISS-E2-1-G.ssp585.growing_season_length_spring.regridded.nc saved\n",
      "File with path: ../../data/CMIP6/ssp585/preprocessed/spring/growing_season_length_spring/CMIP.MIROC-ES2L.ssp585.growing_season_length_spring.regridded.nc saved\n",
      "File with path: ../../data/CMIP6/ssp585/preprocessed/spring/growing_season_length_spring/CMIP.MPI-ESM1-2-LR.ssp585.growing_season_length_spring.regridded.nc saved\n",
      "File with path: ../../data/CMIP6/ssp585/preprocessed/spring/growing_season_length_spring/CMIP.UKESM1-0-LL.ssp585.growing_season_length_spring.regridded.nc saved\n"
     ]
    }
   ],
   "source": [
    "nc_out = save_file(ds_dict, folder=folder)"
   ]
  },
  {
   "cell_type": "code",
   "execution_count": null,
   "id": "4f4ffdb9-f290-4212-b986-1e66dc92a591",
   "metadata": {},
   "outputs": [],
   "source": [
    "#test if data is correct\n",
    "xr.open_dataset(nc_out)"
   ]
  }
 ],
 "metadata": {
  "kernelspec": {
   "display_name": "mypy3",
   "language": "python",
   "name": "mypy3"
  },
  "language_info": {
   "codemirror_mode": {
    "name": "ipython",
    "version": 3
   },
   "file_extension": ".py",
   "mimetype": "text/x-python",
   "name": "python",
   "nbconvert_exporter": "python",
   "pygments_lexer": "ipython3",
   "version": "3.10.0"
  },
  "widgets": {
   "application/vnd.jupyter.widget-state+json": {
    "state": {},
    "version_major": 2,
    "version_minor": 0
   }
  }
 },
 "nbformat": 4,
 "nbformat_minor": 5
}
