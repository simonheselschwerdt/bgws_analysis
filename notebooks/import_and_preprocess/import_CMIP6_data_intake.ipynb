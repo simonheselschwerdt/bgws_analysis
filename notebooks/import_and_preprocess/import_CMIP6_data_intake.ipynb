{
 "cells": [
  {
   "cell_type": "markdown",
   "id": "05fcb352-aecb-438c-9c68-b8bed66b5882",
   "metadata": {
    "tags": []
   },
   "source": [
    "# Script to Import CMIP6 data using Intake-ESM\n",
    "\n",
    "This script demonstrates the process of loading, processing, and saving CMIP6 climate model data.\n",
    "For detailed documentation, refer to: https://intake-esm.readthedocs.io/en/stable/\n",
    "\n",
    "**Following steps are included in this script:**\n",
    "\n",
    "1. Define data attributes for selection.\n",
    "2. Open the catalog and filter data.\n",
    "3. Load datasets into a dictionary.\n",
    "4. Perform first preprocessing:\n",
    "    - Drop redundant coordinates and variables.\n",
    "    - Merge datasets with different `table_id` for the same `source_id`.\n",
    "5. Save the processed data to a specified path.\n",
    "\n",
    "Dependencies: Ensure `intake-esm`, `xarray`, `dask`, and `gcsfs` are installed."
   ]
  },
  {
   "cell_type": "code",
   "execution_count": null,
   "id": "41427c03-0835-43e3-94b7-03014bda8eae",
   "metadata": {},
   "outputs": [],
   "source": [
    "# ========== Import Required Libraries ==========\n",
    "import xarray as xr\n",
    "import intake\n",
    "import dask\n",
    "import os\n",
    "import pandas as pd\n",
    "import numpy as np\n",
    "import gcsfs\n",
    "import sys"
   ]
  },
  {
   "cell_type": "code",
   "execution_count": null,
   "id": "6bb66b16-9c06-4e68-93a2-69222b6b1e6c",
   "metadata": {},
   "outputs": [],
   "source": [
    "# ========== Configure Paths ==========\n",
    "# Define the full path to the directories containing utility scripts and configurations\n",
    "data_handling_dir = '../../src/data_handling'\n",
    "config_file = '../../src'\n",
    "\n",
    "# Add directories to sys.path for importing custom modules\n",
    "sys.path.append(data_handling_dir)\n",
    "sys.path.append(config_file)\n",
    "\n",
    "# Import custom utility functions and configurations\n",
    "import load_data as ld\n",
    "import save_data_as_nc as sd\n",
    "from config import BASE_DIR, DEFAULT_MODEL, DEFAULT_VARIABLE, DEFAULT_TEMPORAL_RES, DEFAULT_EXPERIMENT"
   ]
  },
  {
   "cell_type": "markdown",
   "id": "5e0026b7-1280-471a-af44-49648d2bcab6",
   "metadata": {},
   "source": [
    "### Step 1: Define Data Selection Attributes"
   ]
  },
  {
   "cell_type": "code",
   "execution_count": null,
   "id": "1df4bdf8-645f-4970-aed8-ada656e197e0",
   "metadata": {},
   "outputs": [],
   "source": [
    "attrs = {\n",
    "    \"experiment_id\": \"historical\",  # Use \"ssp370\" for future scenarios\n",
    "    \"activity_id\": [\"CMIP\"],  # For SSP data, use [\"ScenarioMIP\"]\n",
    "    \"member_id\": \"r1i1p1f1\",  # Member IDs from Supplementary Table S1\n",
    "    \"table_id\": [\"Amon\", \"Lmon\"],  # For daily data, use [\"day\"]\n",
    "    \"source_id\": \"BCC-CSM2-MR\",  # Replace with other models as needed\n",
    "    \"variable_id\": [\n",
    "        \"ps\"#, \"pr\", \"huss\", \"evspsbl\", \"tran\", \"mrso\", \"lai\", \"gpp\", \"mrro\"\n",
    "    ]\n",
    "}"
   ]
  },
  {
   "cell_type": "markdown",
   "id": "67531ebf-4ab9-4858-9e51-5f7338c36042",
   "metadata": {},
   "source": [
    "### Step 2: Load Data Catalog "
   ]
  },
  {
   "cell_type": "code",
   "execution_count": null,
   "id": "f9bbcd55-8792-461c-8fba-f0e2c4fc6db0",
   "metadata": {
    "tags": []
   },
   "outputs": [],
   "source": [
    "# Define available CMIP6 catalog paths\n",
    "catalog_paths = [\n",
    "    \"https://raw.githubusercontent.com/NCAR/intake-esm-datastore/master/catalogs/pangeo-cmip6.json\",  # NCAR Catalog\n",
    "    \"https://storage.googleapis.com/cmip6/pangeo-cmip6.json\",  # Pangeo Catalog\n",
    "    \"/work/ik1017/Catalogs/dkrz_cmip6_disk.json\",  # DKRZ Catalog\n",
    "]\n",
    "\n",
    "# Open the selected catalog (choose index 0, 1, or 2 based on your preference)\n",
    "cat_cmip6 = ld.open_catalog(catalog_paths[2])  # Example uses DKRZ Catalog\n",
    "\n",
    "# Search the catalog based on the defined attributes\n",
    "selection = cat_cmip6.search(**attrs)\n",
    "\n",
    "# Display selection metadata\n",
    "selection.df"
   ]
  },
  {
   "cell_type": "markdown",
   "id": "ecf421d8-23b7-4ec8-b42a-f7d0791a87dd",
   "metadata": {},
   "source": [
    "### Step 3: Load Data into a Dictionary"
   ]
  },
  {
   "cell_type": "code",
   "execution_count": null,
   "id": "284e32f9-3696-49cc-b2a6-d8e9ad153437",
   "metadata": {
    "tags": []
   },
   "outputs": [],
   "source": [
    "# Configure Dask to handle cftime and consolidated metadata\n",
    "with dask.config.set(use_cftime=True, decode_times=True, consolidated=True):\n",
    "    ds_dict = selection.to_dataset_dict(preprocess=ld.pre_preprocessing)"
   ]
  },
  {
   "cell_type": "markdown",
   "id": "226e58ed-83d6-4153-984e-6f8e64a945fc",
   "metadata": {},
   "source": [
    "### Step 4: Preprocess Data"
   ]
  },
  {
   "cell_type": "code",
   "execution_count": null,
   "id": "737b003c-a901-441a-a781-a924e4f50261",
   "metadata": {},
   "outputs": [],
   "source": [
    "# Step 4.1: Define redundant coordinates and variables\n",
    "drop_list = [\n",
    "    \"member_id\", \"type\", \"nbnd\", \"bnds\", \"height\", \"depth\", \"lat_bnds\",\n",
    "    \"lon_bnds\", \"time_bnds\", \"time_bounds\", \"depth_bnds\", \"sdepth_bounds\",\n",
    "    \"depth_bounds\", \"hist_interval\", \"axis_nbounds\", \"dcpp_init_year\"\n",
    "]\n",
    "\n",
    "# Drop the defined coordinates and variables\n",
    "ds_dict = ld.drop_redundant(ds_dict, drop_list)\n",
    "\n",
    "# Step 4.2: Merge datasets with different `table_id` but the same `source_id`\n",
    "ds_dict = ld.merge_source_id_data(ds_dict)"
   ]
  },
  {
   "cell_type": "markdown",
   "id": "00e8c449-18cf-48cd-91f2-a445cdeca69b",
   "metadata": {},
   "source": [
    "### Step 5: Define Output File Path"
   ]
  },
  {
   "cell_type": "code",
   "execution_count": null,
   "id": "d32748cc-c55e-4067-ba4b-bd8d715b38b3",
   "metadata": {},
   "outputs": [],
   "source": [
    "# Determine temporal resolution based on `table_id`\n",
    "data_state = \"raw\"\n",
    "if \"Amon\" in attrs[\"table_id\"] or \"Lmon\" in attrs[\"table_id\"]:\n",
    "    temp_res = \"month\"\n",
    "elif \"day\" in attrs[\"table_id\"]:\n",
    "    temp_res = \"day\"\n",
    "else:\n",
    "    temp_res = \"unknown\"  # Fallback for unexpected cases\n",
    "\n",
    "# Construct the output file path\n",
    "data_path = f\"{data_state}/CMIP6/{attrs['experiment_id']}/{temp_res}/\"\n",
    "file_path = os.path.join(BASE_DIR, data_path)\n",
    "print(f\"Saving files to: {file_path}\")"
   ]
  },
  {
   "cell_type": "markdown",
   "id": "5b080f35-1abd-4adf-9a7f-10c22a1bff59",
   "metadata": {},
   "source": [
    "### Step 6: Save Data"
   ]
  },
  {
   "cell_type": "code",
   "execution_count": null,
   "id": "73d88daa-3a38-41d8-9e2c-00bd955644e8",
   "metadata": {},
   "outputs": [],
   "source": [
    "# Save the processed datasets and remove any existing files at the target path\n",
    "sd.save_files(ds_dict, file_path)"
   ]
  },
  {
   "cell_type": "code",
   "execution_count": null,
   "id": "7158b021-2849-4dbd-9a36-40d7f58725ac",
   "metadata": {},
   "outputs": [],
   "source": []
  }
 ],
 "metadata": {
  "kernelspec": {
   "display_name": "mypy3",
   "language": "python",
   "name": "mypy3"
  },
  "language_info": {
   "codemirror_mode": {
    "name": "ipython",
    "version": 3
   },
   "file_extension": ".py",
   "mimetype": "text/x-python",
   "name": "python",
   "nbconvert_exporter": "python",
   "pygments_lexer": "ipython3",
   "version": "3.10.0"
  },
  "widgets": {
   "application/vnd.jupyter.widget-state+json": {
    "state": {},
    "version_major": 2,
    "version_minor": 0
   }
  }
 },
 "nbformat": 4,
 "nbformat_minor": 5
}
