{
 "cells": [
  {
   "cell_type": "markdown",
   "id": "05fcb352-aecb-438c-9c68-b8bed66b5882",
   "metadata": {
    "tags": []
   },
   "source": [
    "# Script to Preprocess CMIP6 data\n",
    "\n",
    "This script demonstrates the preprocessing of CMIP6 climate model data necessary for this analysis.\n",
    "\n",
    "**Following steps are included in this script:**\n",
    "\n",
    "1. Load netCDF files\n",
    "   - Define data\n",
    "   - Load data\n",
    "2. Create consistent time coordinates\n",
    "   - Define reference time coordinate and load it to ref_ds\n",
    "   - Define reference time coordinate\n",
    "3. Regrid data\n",
    "4. Landmask\n",
    "   - Define landmask location\n",
    "   - Apply landmask\n",
    "5. Remove Antartica and Greenland/Iceland\n",
    "6. Convert Units\n",
    "7. Save the processed data to a specified path."
   ]
  },
  {
   "cell_type": "code",
   "execution_count": null,
   "id": "7a3c2003-4cb0-42bb-9836-d7e359ec6e5d",
   "metadata": {},
   "outputs": [],
   "source": [
    "# ========== Import Required Libraries ==========\n",
    "import sys\n",
    "import dask\n",
    "from dask.diagnostics import ProgressBar\n",
    "import os\n",
    "import xarray as xr"
   ]
  },
  {
   "cell_type": "code",
   "execution_count": null,
   "id": "cd4b44e2-b6d1-4151-83b1-7b987a5ae25b",
   "metadata": {},
   "outputs": [],
   "source": [
    "# ========== Configure Paths ==========\n",
    "# Define the full path to the directories containing utility scripts and configurations\n",
    "data_handling_dir = '../../src/data_handling'\n",
    "config_file = '../../src'\n",
    "\n",
    "# Add directories to sys.path for importing custom modules\n",
    "sys.path.append(data_handling_dir)\n",
    "sys.path.append(config_file)\n",
    "\n",
    "# Import custom utility functions and configurations\n",
    "import load_data as ld\n",
    "import process_data as pro_dat\n",
    "import save_data_as_nc as sd\n",
    "from config import DATA_DIR, DEFAULT_EXPERIMENT, DEFAULT_TEMP_RES, DEFAULT_MODEL, DEFAULT_VARIABLE"
   ]
  },
  {
   "cell_type": "markdown",
   "id": "6a1a5eff-03ff-4da6-ac9c-28ec84837ca9",
   "metadata": {
    "tags": []
   },
   "source": [
    "### Step 1: Load netCDF files"
   ]
  },
  {
   "cell_type": "code",
   "execution_count": null,
   "id": "8e5682de-4bd6-4a56-ba37-e1bce0630482",
   "metadata": {},
   "outputs": [],
   "source": [
    "# Step 1.1: Define the datasets\n",
    "data_state = 'raw' # Preprocessing the raw data\n",
    "experiments = [DEFAULT_EXPERIMENT] # You can load multiple experiments here with [experiment_id_1, experiment_id_2, ...] \n",
    "models = [DEFAULT_MODEL] # You can load multiple models here with [Model_name_1, Model_name_2 ...]\n",
    "variables=[DEFAULT_VARIABLE # You can load multiple variables here with [var_1, var_2 ...]\n",
    "]"
   ]
  },
  {
   "cell_type": "code",
   "execution_count": null,
   "id": "4926a2f8-ea5e-454e-be7b-45ef4f71d91b",
   "metadata": {},
   "outputs": [],
   "source": [
    "# Step 1.2: Load the datasets\n",
    "print(\"Loading datasets...\")\n",
    "with ProgressBar():\n",
    "    ds_dict = dask.compute(\n",
    "        ld.load_multiple_models_and_experiments(\n",
    "            DATA_DIR, data_state, 'CMIP6', experiments, DEFAULT_TEMP_RES, models, variables\n",
    "        )\n",
    "    )[0]"
   ]
  },
  {
   "cell_type": "markdown",
   "id": "60c45d04-b493-4ac1-a7dc-4a1622467d4a",
   "metadata": {},
   "source": [
    "### Step 2: Create consistent time coordinates\n",
    "\n",
    "Aligning the time coordinates of different CMIP6 models is necessary for following ensemble analyses.\n",
    "We apply a simple approach by selecting a reference time coordinate from a selected model (in our case cftime.DatetimeNoLeap from CMCC-CM2-SR5).\n",
    "This dataset needs to be downloaded for the respective experiment before correcting time coordinates of other models."
   ]
  },
  {
   "cell_type": "code",
   "execution_count": null,
   "id": "01473229-10ce-4fa2-b09d-e87e49704bb2",
   "metadata": {},
   "outputs": [],
   "source": [
    "# Step 2.1: Define reference time coordinate and load it to ref_ds\n",
    "file = f'raw/{DEFAULT_EXPERIMENT}/{DEFAULT_TEMP_RES}/{DEFAULT_VARIABLE}/CMCC-CM2-SR5.nc'\n",
    "file_path = os.path.join(DATA_DIR, file)\n",
    "ref_ds = xr.open_dataset(file_path)"
   ]
  },
  {
   "cell_type": "code",
   "execution_count": null,
   "id": "be7efde7-a63e-4904-b905-7ed86d3165e7",
   "metadata": {},
   "outputs": [],
   "source": [
    "# Step 2.2: Define reference time coordinate\n",
    "ds_dict[DEFAULT_EXPERIMENT] = pro_dat.consis_time(ds_dict[DEFAULT_EXPERIMENT], ref_ds)"
   ]
  },
  {
   "cell_type": "markdown",
   "id": "e4a4b459-0151-49d4-be35-11855ddd12fe",
   "metadata": {},
   "source": [
    "### Step 3: Regrid data\n",
    "\n",
    "We use daily and monthly scale outputs interpolated to a common 1◦ × 1◦ grid. For this purpose, we employ the conservative regridding method\n",
    "provided by the xESMF package (Zhuang, J. et al. pangeo-data/xESMF: v0.8.2 (2023)), a first-order conservative interpolation technique designed to maintain the integral of the field values during the transition from source to destination grids."
   ]
  },
  {
   "cell_type": "code",
   "execution_count": null,
   "id": "063804a1-48a6-4ca5-9ccf-e1ec1ea779fe",
   "metadata": {},
   "outputs": [],
   "source": [
    "ds_dict[DEFAULT_EXPERIMENT] = pro_dat.regrid(ds_dict[DEFAULT_EXPERIMENT], method='conservative')"
   ]
  },
  {
   "cell_type": "markdown",
   "id": "5c754383-c14d-4db5-9aba-da8c374f204d",
   "metadata": {},
   "source": [
    "### Step 4: Landmask\n",
    "\n",
    "We select the IMERG Land-Sea Mask as Landmask to distinguish between land and water surfaces, a map widely used in climate and hydrological analyses. To use this mask it needs to be regridded from its original 0.1° × 0.1° resolution to match the CMIP6 data grid of 1° × 1°. The landmask can be downloaded from NASA's directory: https://gpm.nasa.gov/data/directory/imerg-land-sea-mask-netcdf."
   ]
  },
  {
   "cell_type": "code",
   "execution_count": null,
   "id": "1e9305d7-08fd-4d3e-80a5-ec0470b68149",
   "metadata": {},
   "outputs": [],
   "source": [
    "# Step 4.1: Define landmask location\n",
    "landmask_filename = 'land_sea_mask_1x1_grid.nc'\n",
    "landmask_filepath = '/work/ch0636/g300115/phd_project/common/data/landmasks/imerg/'\n",
    "\n",
    "# Step 4.2: Apply landmask\n",
    "ds_dict[DEFAULT_EXPERIMENT] = pro_dat.apply_landmask(ds_dict[DEFAULT_EXPERIMENT], landmask_filename, landmask_filepath) "
   ]
  },
  {
   "cell_type": "markdown",
   "id": "635ced7e-cc4d-47a2-b5bf-a64fbdda5401",
   "metadata": {},
   "source": [
    "### Step 5: Remove Antartica and Greenland/Iceland\n",
    "\n",
    "Antarctica and Greenland/Iceland are excluded as their ice-dominated systems differ significantly from hydroecological systems, which are the focus of this analysis. Including these regions would introduce biases irrelevant to the study's objectives."
   ]
  },
  {
   "cell_type": "code",
   "execution_count": null,
   "id": "2ce260c4-b4a8-4be8-9684-dcf2100f6742",
   "metadata": {},
   "outputs": [],
   "source": [
    "ds_dict[DEFAULT_EXPERIMENT] = pro_dat.remove_antarctica_greenland_iceland(ds_dict[DEFAULT_EXPERIMENT])"
   ]
  },
  {
   "cell_type": "markdown",
   "id": "ffaca4a7-4828-4b3e-9bab-ee39d5753019",
   "metadata": {},
   "source": [
    "### Step 6: Convert Units\n",
    "\n",
    "Convert Units of variables."
   ]
  },
  {
   "cell_type": "code",
   "execution_count": null,
   "id": "c96f66b8-2ce5-44c1-8371-c77090f6ff3b",
   "metadata": {},
   "outputs": [],
   "source": [
    "# Define variable and conversion unit\n",
    "conv_units = {DEFAULT_VARIABLE: 'mm/day',\n",
    "            }"
   ]
  },
  {
   "cell_type": "code",
   "execution_count": null,
   "id": "5c6e3100-c752-4eba-8483-7c696a88bb7b",
   "metadata": {},
   "outputs": [],
   "source": [
    "ds_dict[DEFAULT_EXPERIMENT] = pro_dat.set_units(ds_dict[DEFAULT_EXPERIMENT], conv_units)"
   ]
  },
  {
   "cell_type": "markdown",
   "id": "66b424fd-4589-450d-8e11-caaa17cfcc23",
   "metadata": {
    "tags": []
   },
   "source": [
    "### Step 7: Define Output File Path"
   ]
  },
  {
   "cell_type": "code",
   "execution_count": null,
   "id": "ca3a0eb2-aaa9-4b41-9b62-ac7a2b816c77",
   "metadata": {},
   "outputs": [],
   "source": [
    "# Construct the output file path\n",
    "data_path = f\"processed/CMIP6/{DEFAULT_EXPERIMENT}/{DEFAULT_TEMP_RES}/\"\n",
    "file_path = os.path.join(DATA_DIR, data_path)\n",
    "print(f\"Saving files to: {file_path}\")"
   ]
  },
  {
   "cell_type": "markdown",
   "id": "fedf06f5-e52e-483a-8e52-146d0b9e9582",
   "metadata": {},
   "source": [
    "### Step 8: Save Data"
   ]
  },
  {
   "cell_type": "code",
   "execution_count": null,
   "id": "83195db4-108b-48bd-8b24-223488e848f5",
   "metadata": {},
   "outputs": [],
   "source": [
    "# Save the processed datasets and remove any existing files at the target path\n",
    "sd.save_files(ds_dict[DEFAULT_EXPERIMENT], file_path)"
   ]
  }
 ],
 "metadata": {
  "kernelspec": {
   "display_name": "mypy3",
   "language": "python",
   "name": "mypy3"
  },
  "language_info": {
   "codemirror_mode": {
    "name": "ipython",
    "version": 3
   },
   "file_extension": ".py",
   "mimetype": "text/x-python",
   "name": "python",
   "nbconvert_exporter": "python",
   "pygments_lexer": "ipython3",
   "version": "3.10.16"
  },
  "widgets": {
   "application/vnd.jupyter.widget-state+json": {
    "state": {},
    "version_major": 2,
    "version_minor": 0
   }
  }
 },
 "nbformat": 4,
 "nbformat_minor": 5
}
