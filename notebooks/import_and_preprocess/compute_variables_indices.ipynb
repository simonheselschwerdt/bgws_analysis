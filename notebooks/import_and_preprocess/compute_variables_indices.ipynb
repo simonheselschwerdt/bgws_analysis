{
 "cells": [
  {
   "cell_type": "markdown",
   "id": "05fcb352-aecb-438c-9c68-b8bed66b5882",
   "metadata": {
    "tags": []
   },
   "source": [
    "# Script to Compute Indices/Variables\n",
    "\n",
    "This script demonstrates the computation of indices/variables necessary for this analysis.\n",
    "\n",
    "**Following steps are included in this script:**\n",
    "\n",
    "1. Load monthly netCDF files\n",
    "2. Load daily netCDF files\n",
    "3. Compute WUE\n",
    "4. Compute VPD\n",
    "5. Compute Evaporation\n",
    "6. Compute RX5day\n",
    "7. & 8. Save the processed data to a specified path."
   ]
  },
  {
   "cell_type": "code",
   "execution_count": null,
   "id": "7a3c2003-4cb0-42bb-9836-d7e359ec6e5d",
   "metadata": {},
   "outputs": [],
   "source": [
    "# ========== Import Required Libraries ==========\n",
    "import sys\n",
    "import dask\n",
    "from dask.diagnostics import ProgressBar\n",
    "import os\n",
    "import xarray as xr"
   ]
  },
  {
   "cell_type": "code",
   "execution_count": null,
   "id": "cd4b44e2-b6d1-4151-83b1-7b987a5ae25b",
   "metadata": {},
   "outputs": [],
   "source": [
    "# ========== Configure Paths ==========\n",
    "# Define the full path to the directories containing utility scripts and configurations\n",
    "data_handling_dir = '../../src/data_handling'\n",
    "config_file = '../../src'\n",
    "\n",
    "# Add directories to sys.path for importing custom modules\n",
    "sys.path.append(data_handling_dir)\n",
    "sys.path.append(config_file)\n",
    "\n",
    "# Import custom utility functions and configurations\n",
    "import load_data as ld\n",
    "import process_data as pro_dat\n",
    "import save_data_as_nc as sd\n",
    "from config import DATA_DIR, DEFAULT_EXPERIMENT, DEFAULT_MODEL"
   ]
  },
  {
   "cell_type": "markdown",
   "id": "6a1a5eff-03ff-4da6-ac9c-28ec84837ca9",
   "metadata": {
    "tags": []
   },
   "source": [
    "### Step 1: Load monthly netCDF files"
   ]
  },
  {
   "cell_type": "code",
   "execution_count": null,
   "id": "8e5682de-4bd6-4a56-ba37-e1bce0630482",
   "metadata": {},
   "outputs": [],
   "source": [
    "# Step 1.1: Define the datasets\n",
    "data_state = 'processed' # Using already preprocessing data\n",
    "experiments = [DEFAULT_EXPERIMENT] # You can load multiple experiments here with [experiment_id_1, experiment_id_2, ...] \n",
    "models = [DEFAULT_MODEL] # You can load multiple models here with [Model_name_1, Model_name_2 ...]\n",
    "variables=['gpp', 'tran', # Necessary for WUE\n",
    "           'ps', 'huss', 'tas', # Necessary for VPD\n",
    "           'evspsbl', 'tran' # Necessary for Evaporation\n",
    "]"
   ]
  },
  {
   "cell_type": "code",
   "execution_count": null,
   "id": "4926a2f8-ea5e-454e-be7b-45ef4f71d91b",
   "metadata": {},
   "outputs": [],
   "source": [
    "# Step 1.2: Load the datasets\n",
    "print(\"Loading datasets...\")\n",
    "with ProgressBar():\n",
    "    ds_dict_month = dask.compute(\n",
    "        ld.load_multiple_models_and_experiments(\n",
    "            DATA_DIR, data_state, 'CMIP6', experiments, 'month', models, variables\n",
    "        )\n",
    "    )[0]"
   ]
  },
  {
   "cell_type": "markdown",
   "id": "02a7ec82-3ccc-4a85-9d75-c0562c37edb2",
   "metadata": {},
   "source": [
    "### Step 2: Load daily netCDF files"
   ]
  },
  {
   "cell_type": "code",
   "execution_count": null,
   "id": "bf2d1e84-d1ac-42ff-a307-555c8a8dc09d",
   "metadata": {},
   "outputs": [],
   "source": [
    "# Step 2.1: Define the datasets\n",
    "data_state = 'processed' # Using already preprocessing data\n",
    "experiments = [DEFAULT_EXPERIMENT] # You can load multiple experiments here with [experiment_id_1, experiment_id_2, ...] \n",
    "models = [DEFAULT_MODEL] # You can load multiple models here with [Model_name_1, Model_name_2 ...]\n",
    "variables=['pr' # Necessary for RX5day\n",
    "]"
   ]
  },
  {
   "cell_type": "code",
   "execution_count": null,
   "id": "63efc3db-6ecb-47f7-9d21-c88174affb7c",
   "metadata": {},
   "outputs": [],
   "source": [
    "# Step 2.2: Load the datasets\n",
    "print(\"Loading datasets...\")\n",
    "with ProgressBar():\n",
    "    ds_dict_day = dask.compute(\n",
    "        ld.load_multiple_models_and_experiments(\n",
    "            DATA_DIR, data_state, 'CMIP6', experiments, 'day', models, variables\n",
    "        )\n",
    "    )[0]"
   ]
  },
  {
   "cell_type": "markdown",
   "id": "60c45d04-b493-4ac1-a7dc-4a1622467d4a",
   "metadata": {},
   "source": [
    "### Step 2: Compute WUE"
   ]
  },
  {
   "cell_type": "code",
   "execution_count": null,
   "id": "01473229-10ce-4fa2-b09d-e87e49704bb2",
   "metadata": {},
   "outputs": [],
   "source": [
    "ds_dict_month[DEFAULT_EXPERIMENT] = pro_dat.compute_wue(ds_dict_month[DEFAULT_EXPERIMENT])"
   ]
  },
  {
   "cell_type": "markdown",
   "id": "e4a4b459-0151-49d4-be35-11855ddd12fe",
   "metadata": {},
   "source": [
    "### Step 3: Compute VPD"
   ]
  },
  {
   "cell_type": "code",
   "execution_count": null,
   "id": "063804a1-48a6-4ca5-9ccf-e1ec1ea779fe",
   "metadata": {},
   "outputs": [],
   "source": [
    "ds_dict_month[DEFAULT_EXPERIMENT] = pro_dat.compute_vpd(ds_dict_month[DEFAULT_EXPERIMENT])"
   ]
  },
  {
   "cell_type": "markdown",
   "id": "0ffbb467-abeb-4566-a6ee-4bd22d454d77",
   "metadata": {},
   "source": [
    "### Step 4: Compute Evaporation"
   ]
  },
  {
   "cell_type": "code",
   "execution_count": null,
   "id": "8ca06af3-1489-4cd8-b09c-d6ad7a160c9f",
   "metadata": {},
   "outputs": [],
   "source": [
    "ds_dict_month[DEFAULT_EXPERIMENT] = pro_dat.compute_evapo(ds_dict_month[DEFAULT_EXPERIMENT])"
   ]
  },
  {
   "cell_type": "markdown",
   "id": "1bbf1104-379c-4131-8787-ad447b0434ae",
   "metadata": {},
   "source": [
    "### Step 5: Compute RX5day"
   ]
  },
  {
   "cell_type": "code",
   "execution_count": null,
   "id": "a21f61eb-71b6-458c-aa86-d76952f30029",
   "metadata": {},
   "outputs": [],
   "source": [
    "ds_dict_day[DEFAULT_EXPERIMENT] = pro_dat.compute_RX5day(ds_dict_day[DEFAULT_EXPERIMENT])"
   ]
  },
  {
   "cell_type": "markdown",
   "id": "5c0297a8-6118-45ad-8e41-28dfdae7e988",
   "metadata": {},
   "source": [
    "### Step 6: Remove base variables"
   ]
  },
  {
   "cell_type": "code",
   "execution_count": null,
   "id": "59a75475-b9fe-408a-b74d-355d92e2ff43",
   "metadata": {},
   "outputs": [],
   "source": [
    "# List of variables to remove\n",
    "variables_to_remove = ['gpp', 'tran', 'ps', 'huss', 'tas', 'evspsbl']\n",
    "\n",
    "# Remove variables from the dataset dictionary\n",
    "ds_dict_month[DEFAULT_EXPERIMENT] = pro_dat.remove_variables(ds_dict_month[DEFAULT_EXPERIMENT], variables_to_remove)"
   ]
  },
  {
   "cell_type": "markdown",
   "id": "66b424fd-4589-450d-8e11-caaa17cfcc23",
   "metadata": {
    "tags": []
   },
   "source": [
    "### Step 7: Define Output File Path"
   ]
  },
  {
   "cell_type": "code",
   "execution_count": null,
   "id": "ca3a0eb2-aaa9-4b41-9b62-ac7a2b816c77",
   "metadata": {},
   "outputs": [],
   "source": [
    "# Construct the output file path\n",
    "data_path_day = f\"processed/CMIP6/{DEFAULT_EXPERIMENT}/day/\"\n",
    "file_path_day = os.path.join(DATA_DIR, data_path_day)\n",
    "print(f\"Saving daily files to: {file_path_day}\")"
   ]
  },
  {
   "cell_type": "code",
   "execution_count": null,
   "id": "73710e99-f6a1-49c6-877b-63a5edb6e61d",
   "metadata": {},
   "outputs": [],
   "source": [
    "# Construct the output file path\n",
    "data_path_month = f\"processed/CMIP6/{DEFAULT_EXPERIMENT}/month/\"\n",
    "file_path_month = os.path.join(DATA_DIR, data_path_month)\n",
    "print(f\"Saving monthly files to: {file_path_month}\")"
   ]
  },
  {
   "cell_type": "markdown",
   "id": "fedf06f5-e52e-483a-8e52-146d0b9e9582",
   "metadata": {},
   "source": [
    "### Step 8: Save Data"
   ]
  },
  {
   "cell_type": "code",
   "execution_count": null,
   "id": "83195db4-108b-48bd-8b24-223488e848f5",
   "metadata": {},
   "outputs": [],
   "source": [
    "# Save the processed datasets and remove any existing files at the target path\n",
    "sd.save_files(ds_dict_day[DEFAULT_EXPERIMENT], file_path_day)\n",
    "sd.save_files(ds_dict_month[DEFAULT_EXPERIMENT], file_path_month)"
   ]
  }
 ],
 "metadata": {
  "kernelspec": {
   "display_name": "mypy3",
   "language": "python",
   "name": "mypy3"
  },
  "language_info": {
   "codemirror_mode": {
    "name": "ipython",
    "version": 3
   },
   "file_extension": ".py",
   "mimetype": "text/x-python",
   "name": "python",
   "nbconvert_exporter": "python",
   "pygments_lexer": "ipython3",
   "version": "3.10.0"
  },
  "widgets": {
   "application/vnd.jupyter.widget-state+json": {
    "state": {},
    "version_major": 2,
    "version_minor": 0
   }
  }
 },
 "nbformat": 4,
 "nbformat_minor": 5
}
