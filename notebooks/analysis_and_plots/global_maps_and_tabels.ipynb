{
 "cells": [
  {
   "cell_type": "markdown",
   "id": "7716ffb9-a564-44c7-87d4-2d4caeecdb1c",
   "metadata": {},
   "source": [
    "# Global Maps and Tabels\n",
    "\n",
    "This notebook demonstrates preprocessing and plotting of the global maps displayed in Fig. 1 and 2, as well as Supplementary Fig. S1-S6, and the computations for the Supllementary Tables S2-S4.\n",
    "\n",
    "### Note\n",
    "\n",
    "To replicate the results presented in the publication, it is essential to preprocess the complete ESM output data as described in the README or Method section of the publication.\n",
    "\n",
    "**Following steps are included in this script:**\n",
    "\n",
    "1. **Load Period Means**:\n",
    "   - Load preprocessed data for historical and future periods across multiple models and variables.\n",
    "2. **Compute BGWS and Ensemble Mean Change**:\n",
    "   - Calculate Blue-Green Water Share (BGWS) and ensemble mean changes.\n",
    "3. **Plot Global Maps**:\n",
    "   - Generate global maps to visualize spatial distributions and changes.\n",
    "4. **Plot Global Maps**:\n",
    "   - Generate scatter plots for comparison of different datasets and variables.\n",
    "5. **Compute and Display Statistics**:\n",
    "   - Compute global means and fractions for use in supplementary tables."
   ]
  },
  {
   "cell_type": "code",
   "execution_count": null,
   "id": "0fd825ef-6407-4e20-8183-699e184ed00d",
   "metadata": {},
   "outputs": [],
   "source": [
    "# ========== Import Required Libraries ==========\n",
    "import sys\n",
    "import dask\n",
    "from dask.diagnostics import ProgressBar"
   ]
  },
  {
   "cell_type": "code",
   "execution_count": null,
   "id": "72064140-b283-4159-b23a-d76d9b5b6332",
   "metadata": {},
   "outputs": [],
   "source": [
    "# ========== Configure Paths ==========\n",
    "# Define the full path to the directories containing utility scripts and configurations\n",
    "sys.path.append('../../src')\n",
    "sys.path.append('../../src/data_handling')\n",
    "sys.path.append('../../src/analysis')\n",
    "sys.path.append('../../src/visualization')\n",
    "\n",
    "# Import custom utility functions and configurations\n",
    "import load_data as load_dat\n",
    "import process_data as pro_dat\n",
    "import compute_statistics as comp_stats\n",
    "import global_maps_and_tabels as glob_map_tab\n",
    "\n",
    "#import data directory\n",
    "from config import DATA_DIR"
   ]
  },
  {
   "cell_type": "code",
   "execution_count": null,
   "id": "a3f065ed-18c2-48b7-b463-92cb7b103e48",
   "metadata": {},
   "outputs": [],
   "source": [
    "# ========== Define Font Style ==========\n",
    "import matplotlib.pyplot as plt\n",
    "plt.rcParams['font.family'] = 'Nimbus Sans'"
   ]
  },
  {
   "cell_type": "markdown",
   "id": "cd4c3a0c-ac69-480a-9194-7d4237ba762f",
   "metadata": {},
   "source": [
    "### Step 1: Load Period Means"
   ]
  },
  {
   "cell_type": "code",
   "execution_count": null,
   "id": "ebe2d0dc-863d-42ea-a61d-1264a9cbd13b",
   "metadata": {},
   "outputs": [],
   "source": [
    "# Step 1.1: Define the datasets\n",
    "experiments = ['historical', 'ssp370']\n",
    "models = ['BCC-CSM2-MR', 'CESM2', 'CMCC-CM2-SR5', 'CNRM-CM6-1', 'CNRM-ESM2-1', 'CanESM5', \n",
    "          'IPSL-CM6A-LR', 'MIROC-ES2L', 'MPI-ESM1-2-LR', 'NorESM2-MM', 'UKESM1-0-LL',\n",
    "          'ERA5_land', 'OBS'\n",
    "         ]\n",
    "variables=['pr', 'mrro', 'tran', 'RX5day', 'vpd', 'mrso', 'lai', 'gpp', 'wue', 'evapo', 'RX5day', 'rx5day_ratio']"
   ]
  },
  {
   "cell_type": "code",
   "execution_count": null,
   "id": "34a7d2cc-f2a4-43ed-a963-6c8ee502141d",
   "metadata": {},
   "outputs": [],
   "source": [
    "# Step 1.2: Load the datasets\n",
    "print(\"Loading period means...\")\n",
    "with ProgressBar():\n",
    "    ds_dict = dask.compute(\n",
    "        load_dat.load_period_mean(\n",
    "            DATA_DIR, 'processed', experiments, models, variables\n",
    "        )\n",
    "    )[0]"
   ]
  },
  {
   "cell_type": "markdown",
   "id": "6b858573-23d6-43b3-942c-c44a5b4c6e16",
   "metadata": {},
   "source": [
    "### Step 2: Compute BGWS, Ensemble Mean & Std and Change"
   ]
  },
  {
   "cell_type": "code",
   "execution_count": null,
   "id": "225c7e66-231b-4fd0-98f6-96e9344e2707",
   "metadata": {},
   "outputs": [],
   "source": [
    "# Step 2.1: # Compute BGWS and ensemble mean & std for both periods\n",
    "ds_dict = pro_dat.compute_bgws(ds_dict)\n",
    "ds_dict['historical'] = comp_stats.compute_ensemble_statistic(ds_dict['historical'], 'mean')\n",
    "ds_dict['historical'] = comp_stats.compute_ensemble_statistic(ds_dict['historical'], 'std')\n",
    "ds_dict['ssp370'] = comp_stats.compute_ensemble_statistic(ds_dict['ssp370'], 'mean')\n",
    "ds_dict['ssp370'] = comp_stats.compute_ensemble_statistic(ds_dict['ssp370'], 'std')"
   ]
  },
  {
   "cell_type": "code",
   "execution_count": null,
   "id": "4d2ff7ec-7dc2-4aea-b2b6-bbf53f121542",
   "metadata": {},
   "outputs": [],
   "source": [
    "# Step 2.2: Compute change dictionaries and ensemble mean & std\n",
    "ds_dict_change = pro_dat.compute_change_dict(ds_dict)\n",
    "ds_dict_change['ssp370-historical'] = comp_stats.compute_ensemble_statistic(ds_dict_change['ssp370-historical'], 'mean')\n",
    "ds_dict_change['ssp370-historical'] = comp_stats.compute_ensemble_statistic(ds_dict_change['ssp370-historical'], 'std')"
   ]
  },
  {
   "cell_type": "markdown",
   "id": "c71301f8-2866-4beb-9761-c3a893e8aea3",
   "metadata": {},
   "source": [
    "### Step 3: Plot Global Maps (Fig. 1, 2b-c, and Supplementary Fig. S1a,c, S2, S3 and S6)"
   ]
  },
  {
   "cell_type": "code",
   "execution_count": null,
   "id": "e85829d5-755b-488c-9d16-f80159e78e5b",
   "metadata": {},
   "outputs": [],
   "source": [
    "# Step 3.1: Specify the period for analysis\n",
    "period = 'historical'\n",
    "\n",
    "# Options:\n",
    "# - 'historical':Data for the historical period\n",
    "# - 'ssp370-historical': Differences between future projections and historical period"
   ]
  },
  {
   "cell_type": "code",
   "execution_count": null,
   "id": "3ee54f30-c356-49fb-a882-1a5848446eeb",
   "metadata": {},
   "outputs": [],
   "source": [
    "# Step 3.2: Select the variable to visualize\n",
    "variable = 'bgws'\n",
    "\n",
    "# Options include:\n",
    "# - Common variables: 'pr' (precipitation), 'tran' (transpiration), 'mrro' (runoff), etc.\n",
    "# - Variables for historical data only: 'gpp' (gross primary productivity), 'bgws' (Blue-Green Water Share)\n",
    "# - Variables for change analysis only: 'mrso' (soil moisture change)"
   ]
  },
  {
   "cell_type": "code",
   "execution_count": null,
   "id": "9bf066f0-64e2-4db3-a5aa-1102c4cedcad",
   "metadata": {},
   "outputs": [],
   "source": [
    "# Step 3.3: Choose the correct dictionary for plotting based on the selected period\n",
    "if period == 'ssp370-historical':\n",
    "    # Use the change dictionary for differences between future and historical periods\n",
    "    plotting_dict = ds_dict_change[period]\n",
    "else:\n",
    "    # Use the original dictionary for single-period data\n",
    "    plotting_dict = ds_dict[period]"
   ]
  },
  {
   "cell_type": "code",
   "execution_count": null,
   "id": "b620a2cf-9fa4-42b2-a70c-7e1da4904516",
   "metadata": {},
   "outputs": [],
   "source": [
    "# Step 3.4: Generate the global map for the selected variable and period. Select Ensemble std for Supplementary Fig. 3.\n",
    "glob_map_tab.plot_var_data_on_map(plotting_dict, 'Ensemble mean', variable, period, dpi=150, filetype='jpeg',\n",
    "                                  filepath=\"/work/ch0636/g300115/phd_project/paper_1/results/historical/maps/bgws/\")"
   ]
  },
  {
   "cell_type": "markdown",
   "id": "f00be062-2da5-4097-bf4e-928c391b3ca0",
   "metadata": {},
   "source": [
    "### Step 4: Plot BGWS Change Map (Fig. 2a)"
   ]
  },
  {
   "cell_type": "code",
   "execution_count": null,
   "id": "9b9e22ef-4d5e-46a0-a240-ccfba7015787",
   "metadata": {},
   "outputs": [],
   "source": [
    "# Plot the BGWS regime change map. This visualizes the difference in BGWS between the historical period and the SSP3-7.0 scenario.\n",
    "glob_map_tab.plot_bgws_sub_change(ds_dict['historical'], ds_dict_change['ssp370-historical'], dpi=150, filetype='jpeg',\n",
    "                                  filepath=None)"
   ]
  },
  {
   "cell_type": "markdown",
   "id": "8ba6f32d-2e2c-4825-a905-e6a63ceae704",
   "metadata": {},
   "source": [
    "### Step 5: Scatter Plots Comparison OBS, ERA5 Land and Ensemble Mean (Supplementary Fig. S1b,d)"
   ]
  },
  {
   "cell_type": "code",
   "execution_count": null,
   "id": "4b938257-6fac-4d40-b335-c353a6ecdaf7",
   "metadata": {},
   "outputs": [],
   "source": [
    "# Define reference dataset\n",
    "ref='ERA5_land' #'OBS' ERA5_land\n",
    "reference_dataset = ds_dict['historical'][ref]\n",
    "\n",
    "# Compare to ensemble mean\n",
    "model_dataset = ds_dict['historical']['Ensemble mean']\n",
    "\n",
    "# Specify the variable to compare\n",
    "variable_name = 'bgws'\n",
    "\n",
    "glob_map_tab.plot_performance_scatter(reference=reference_dataset, model=model_dataset, variable=variable_name,\n",
    "                                      ref_label=ref,model_label=\"Ensemble Mean\", output_file=None) # Put path and final filename here ennding with e.g., .pdf\""
   ]
  },
  {
   "cell_type": "markdown",
   "id": "bfbeb71b-31ca-4a75-a580-263fad42a10a",
   "metadata": {},
   "source": [
    "### Step 6: Scatter Plots RX5day/annual (Supplementary Fig. S4)"
   ]
  },
  {
   "cell_type": "code",
   "execution_count": null,
   "id": "b3fe3dca-f9a6-4b1d-90fc-22636420cea4",
   "metadata": {},
   "outputs": [],
   "source": [
    "glob_map_tab.plot_scatter_comparison_rx5day_ratio(ds_dict['historical']['Ensemble mean'].rx5day_ratio.values, ds_dict['historical']['Ensemble mean'],\n",
    "                                     var_name='pr', output_file=None) # Put path and final filename here ennding with e.g., .pdf\""
   ]
  },
  {
   "cell_type": "markdown",
   "id": "03fdea92-80d9-42a8-99e7-48952d9c6a81",
   "metadata": {},
   "source": [
    "### Step 7: Plot BGWS Switch Map (Supplementary Fig. S5)"
   ]
  },
  {
   "cell_type": "code",
   "execution_count": null,
   "id": "473d24a5-c67e-4002-851a-b32ac97df228",
   "metadata": {},
   "outputs": [],
   "source": [
    "#Plot the BGWS (Blue-Green Water Share) regime shift map. This visualizes regions where the BGWS changes from blue water to green water or vice versa.\n",
    "glob_map_tab.plot_bgws_flip(ds_dict, ds_dict_change, dpi=150, filetype='jpeg',\n",
    "                            filepath=None)"
   ]
  },
  {
   "cell_type": "markdown",
   "id": "add2ddc3-a82b-491e-90ad-c29cb033a754",
   "metadata": {},
   "source": [
    "### Step 6: Compute Global Means (Supplementary Table S2)"
   ]
  },
  {
   "cell_type": "code",
   "execution_count": null,
   "id": "eb625dc5-aa20-45db-be4a-24ae48f6183e",
   "metadata": {},
   "outputs": [],
   "source": [
    "# Compute the global mean table for selected variables. This calculates the mean values of specified variables across the entire spatial domain \n",
    "# for both historical and SSP3-7.0 scenarios, as well as their changes.\n",
    "glob_mean_table = glob_map_tab.global_mean_table(ds_dict, ds_dict_change, ['bgws', 'pr', 'mrro', 'tran'], \n",
    "                                                 filepath=None)\n",
    "glob_mean_table"
   ]
  },
  {
   "cell_type": "markdown",
   "id": "5a1d34e0-2698-423c-83ef-610a58f51738",
   "metadata": {},
   "source": [
    "### Step 7: Compute Global Fraction (Supplementary Table S3)"
   ]
  },
  {
   "cell_type": "code",
   "execution_count": null,
   "id": "e369056d-1d60-4e7e-b7b1-24cab50af921",
   "metadata": {},
   "outputs": [],
   "source": [
    "# Compute the table of percentage changes in BGWS between historical and SSP3-7.0 periods based on their historical BGWS regome. \n",
    "change_table = glob_map_tab.percentage_changes_table(ds_dict['historical'], ds_dict_change['ssp370-historical'], \n",
    "                                                     filepath=None)\n",
    "change_table"
   ]
  },
  {
   "cell_type": "markdown",
   "id": "faf8658d-f15a-43e6-8acb-3a8d2324e037",
   "metadata": {},
   "source": [
    "### Step 8: Compute Global Fraction (Supplementary Table S4)"
   ]
  },
  {
   "cell_type": "code",
   "execution_count": null,
   "id": "f3a45f6a-bb0d-4181-a42b-aa61bf99dd73",
   "metadata": {},
   "outputs": [],
   "source": [
    "# Compute the table of BGWS regime flips (from blue water to green water or vice versa). This quantifies the spatial extent of regime shifts in the BGWS variable.\n",
    "flip_table = glob_map_tab.flip_changes_table(ds_dict['historical'], ds_dict['ssp370'], \n",
    "                                             filepath=None)\n",
    "flip_table"
   ]
  }
 ],
 "metadata": {
  "kernelspec": {
   "display_name": "mypy3",
   "language": "python",
   "name": "mypy3"
  },
  "language_info": {
   "codemirror_mode": {
    "name": "ipython",
    "version": 3
   },
   "file_extension": ".py",
   "mimetype": "text/x-python",
   "name": "python",
   "nbconvert_exporter": "python",
   "pygments_lexer": "ipython3",
   "version": "3.10.16"
  },
  "widgets": {
   "application/vnd.jupyter.widget-state+json": {
    "state": {},
    "version_major": 2,
    "version_minor": 0
   }
  }
 },
 "nbformat": 4,
 "nbformat_minor": 5
}
