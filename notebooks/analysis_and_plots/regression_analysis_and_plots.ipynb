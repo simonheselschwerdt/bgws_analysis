{
 "cells": [
  {
   "cell_type": "markdown",
   "id": "7716ffb9-a564-44c7-87d4-2d4caeecdb1c",
   "metadata": {
    "tags": []
   },
   "source": [
    "# Regression and Driver Analysis\n",
    "\n",
    "This notebook demonstrates multiple linear regression and permutation importance analysis to evaluate the impact of selected hydroecological drivers on ∆BGWS.\n",
    "\n",
    "### Note\n",
    "\n",
    "To replicate the results presented in the publication, it is essential to preprocess the complete ESM output data as described in the README or Method section of the publication.\n",
    "\n",
    "**Following steps are included in this script:**\n",
    "\n",
    "1. Load period means\n",
    "   - Define data\n",
    "   - Load the preprocessed data\n",
    "2. Compute BGWS and Ensemble Mean Change\n",
    "   - Compute ∆BGWS and the associated ensemble mean changes\n",
    "   - Subdivide the dataset by BGWS regimes\n",
    "3. Regression Analysis\n",
    "   - Perform multiple linear regression using selected predictors\n",
    "   - Evaluate model performance and calculate permutation importance\n",
    "4. Plot Permutation Importance\n",
    "   - Visualize feature importance with directional insight (Fig. 3 b & d / Supplementary Fig. S4)"
   ]
  },
  {
   "cell_type": "code",
   "execution_count": null,
   "id": "8a60e398-b92b-4876-ab31-fd68cb70767c",
   "metadata": {},
   "outputs": [],
   "source": [
    "# ========== Import Required Libraries ==========\n",
    "import sys\n",
    "import dask\n",
    "from dask.diagnostics import ProgressBar"
   ]
  },
  {
   "cell_type": "code",
   "execution_count": null,
   "id": "5c3901b0-ef77-4be0-a9fb-64c7cd65e3ff",
   "metadata": {},
   "outputs": [],
   "source": [
    "# ========== Configure Paths ==========\n",
    "# Define the full path to the directories containing utility scripts and configurations\n",
    "config_file = '../../src'\n",
    "data_handling_dir = '../../src/data_handling'\n",
    "data_analysis_dir = '../../src/analysis'\n",
    "data_vis_dir = '../../src/visualization'\n",
    "\n",
    "# Add the directories to sys.path\n",
    "sys.path.append(config_file)\n",
    "sys.path.append(data_handling_dir)\n",
    "sys.path.append(data_analysis_dir)\n",
    "sys.path.append(data_vis_dir)\n",
    "\n",
    "# Import custom utility functions and configurations\n",
    "import load_data as load_dat\n",
    "import process_data as pro_dat\n",
    "import regression_analysis as reg_analysis\n",
    "import regression_analysis_results as reg_results\n",
    "import compute_statistics as comp_stats\n",
    "\n",
    "#import data directory\n",
    "from config import DATA_DIR"
   ]
  },
  {
   "cell_type": "markdown",
   "id": "55c63923-30c6-41c8-8146-e2c807f496a3",
   "metadata": {},
   "source": [
    "### Step 1: Load Period Means"
   ]
  },
  {
   "cell_type": "code",
   "execution_count": null,
   "id": "81321ae4-dd93-4bb8-a5e4-9b604df636c6",
   "metadata": {},
   "outputs": [],
   "source": [
    "# Step 1.1: Define the datasets\n",
    "experiments = ['historical', 'ssp370']\n",
    "models = ['BCC-CSM2-MR', 'CESM2', 'CMCC-CM2-SR5', 'CNRM-CM6-1', 'CNRM-ESM2-1', 'CanESM5', \n",
    "          'IPSL-CM6A-LR', 'MIROC-ES2L', 'MPI-ESM1-2-LR', 'NorESM2-MM', 'UKESM1-0-LL']\n",
    "variables=['pr', 'tran', 'mrro', 'vpd', 'mrso', 'lai', 'wue', 'RX5day']"
   ]
  },
  {
   "cell_type": "code",
   "execution_count": null,
   "id": "d3f7295b-b6aa-4f48-97e1-11efbbe4dbef",
   "metadata": {},
   "outputs": [],
   "source": [
    "# Step 1.2: Load the datasets\n",
    "print(\"Loading period means...\")\n",
    "with ProgressBar():\n",
    "    ds_dict = dask.compute(\n",
    "        load_dat.load_period_mean(\n",
    "            DATA_DIR, 'processed', 'CMIP6', experiments, models, variables\n",
    "        )\n",
    "    )[0]"
   ]
  },
  {
   "cell_type": "markdown",
   "id": "ad4cc837-7fd5-43dd-a2ec-9540f13e5628",
   "metadata": {},
   "source": [
    "### Step 2: Compute BGWS and Ensemble Mean Change"
   ]
  },
  {
   "cell_type": "code",
   "execution_count": null,
   "id": "fb7e952e-253d-4c0f-8bef-91f827fa849c",
   "metadata": {},
   "outputs": [],
   "source": [
    "# Step 2.1: # Compute BGWS for both periods and ensemble mean for the historical period\n",
    "ds_dict = pro_dat.compute_bgws(ds_dict)\n",
    "ds_dict['historical'] = comp_stats.compute_ensemble_statistic(ds_dict['historical'], 'mean')"
   ]
  },
  {
   "cell_type": "code",
   "execution_count": null,
   "id": "693e7904-84f1-443b-a47c-2d11235cd8a4",
   "metadata": {},
   "outputs": [],
   "source": [
    "# Step 2.2: Compute change dictionaries and ensemble mean\n",
    "ds_dict_change = pro_dat.compute_change_dict(ds_dict)\n",
    "ds_dict_change['ssp370-historical'] = comp_stats.compute_ensemble_statistic(ds_dict_change['ssp370-historical'], 'mean')"
   ]
  },
  {
   "cell_type": "code",
   "execution_count": null,
   "id": "f539237b-1f87-4568-8f8c-ffe8969ff108",
   "metadata": {},
   "outputs": [],
   "source": [
    "# Step 2.3: Subdivide data by regimes and get final subdivided ensemble mean change dataset\n",
    "ensemble_mean_change_sub = pro_dat.subdivide_ds_by_regime(ds_dict['historical']['Ensemble mean'], \n",
    "                                                      ds_dict_change['ssp370-historical']['Ensemble mean'], 'historical', 'ssp370-historical', 'bgws')"
   ]
  },
  {
   "cell_type": "markdown",
   "id": "2d4ab4e6-207d-4965-a9b3-f7d14ace7720",
   "metadata": {},
   "source": [
    "### Step 3: Regression Analysis"
   ]
  },
  {
   "cell_type": "code",
   "execution_count": null,
   "id": "ae833f31-9df3-4bcd-a3fa-246a4ddeb72d",
   "metadata": {},
   "outputs": [],
   "source": [
    "# Step 3.1: Configure regression parameters\n",
    "predictor_vars = ['pr', 'vpd', 'mrso', 'lai', 'wue', 'RX5day'] # Define the predictor variables used in the regression analysis\n",
    "predictant = 'bgws' # Define the predictant (dependent variable) for the regression analysis\n",
    "test_size = 0.3 # Share of the dataset used as test dataset (default is 30%)\n",
    "cv_folds=5 # define k for cross-validation (default is 5)\n",
    "n_permutations = 20 # Number of permutations for importance calculation\n",
    "param_grid = { # Define the parameter grid for hyperparameter tuning during regression\n",
    "    'alpha': [0.001, 0.01, 0.1, 1, 10, 100], # Regularization strength for ElasticNet\n",
    "    'l1_ratio': [0.2, 0.5, 0.8] # Mix ratio between L1 (Lasso) and L2 (Ridge) penalties\n",
    "}"
   ]
  },
  {
   "cell_type": "code",
   "execution_count": null,
   "id": "8b6be048-6816-4533-a5f3-1003eacb52ba",
   "metadata": {},
   "outputs": [],
   "source": [
    "# Step 3.2: Perform regression analysis for both regimes\n",
    "results_bw_regime = {}\n",
    "results_bw_regime = reg_analysis.regression_analysis(ensemble_mean_change_sub.isel(subdivision=0), predictor_vars, predictant, test_size,\n",
    "                        param_grid, cv_folds, n_permutations)\n",
    "results_gw_regime = {}\n",
    "results_gw_regime = reg_analysis.regression_analysis(ensemble_mean_change_sub.isel(subdivision=1), predictor_vars, predictant, test_size,\n",
    "                        param_grid, cv_folds, n_permutations)\n",
    "\n",
    "print(f\"Performance of Blue Water Regression Model (Testing Data): '{results_bw_regime['performance']['R2 Test'].round(2)}'\")\n",
    "print(f\"Performance of Green Water Regression Model (Testing Data): '{results_gw_regime['performance']['R2 Test'].round(2)}'\")"
   ]
  },
  {
   "cell_type": "markdown",
   "id": "62ea1b97-1dc4-4fae-8f9a-e8526ca746fc",
   "metadata": {},
   "source": [
    "### Step 4: Plot Permutation Importance (Fig. 3 b & d / Supplementary Fig. S4)"
   ]
  },
  {
   "cell_type": "code",
   "execution_count": null,
   "id": "4eb6666d-3907-4be4-a558-1c8054e4daa0",
   "metadata": {},
   "outputs": [],
   "source": [
    "# Step 4.1: Plot permutation importance for Blue Water regime\n",
    "reg_results.plot_permutation_importance(\n",
    "    results_bw_regime,\n",
    "    predictor_vars,\n",
    "    regime='bw_regime',  # Specify the regime being analyzed (Blue Water)\n",
    "    importance_type='test',  # Choose between 'test' or 'train' dataset for importance analysis\n",
    "    save_path=None  # Optionally specify a path to save the plot, e.g., \"../../results\"\n",
    ")"
   ]
  },
  {
   "cell_type": "code",
   "execution_count": null,
   "id": "a88990c6-13a0-49fa-89a4-12208ae8d0f0",
   "metadata": {},
   "outputs": [],
   "source": [
    "# Step 4.1: Plot permutation importance for Green Water regime\n",
    "reg_results.plot_permutation_importance(\n",
    "    results_gw_regime,\n",
    "    predictor_vars,\n",
    "    regime='gw_regime',  # Specify the regime being analyzed (Green Water)\n",
    "    importance_type='test',  # Choose between 'test' or 'train' dataset for importance analysis\n",
    "    save_path=None  # Optionally specify a path to save the plot, e.g., \"../../results\"\n",
    ")"
   ]
  }
 ],
 "metadata": {
  "kernelspec": {
   "display_name": "mypy3",
   "language": "python",
   "name": "mypy3"
  },
  "language_info": {
   "codemirror_mode": {
    "name": "ipython",
    "version": 3
   },
   "file_extension": ".py",
   "mimetype": "text/x-python",
   "name": "python",
   "nbconvert_exporter": "python",
   "pygments_lexer": "ipython3",
   "version": "3.10.0"
  },
  "widgets": {
   "application/vnd.jupyter.widget-state+json": {
    "state": {},
    "version_major": 2,
    "version_minor": 0
   }
  }
 },
 "nbformat": 4,
 "nbformat_minor": 5
}
