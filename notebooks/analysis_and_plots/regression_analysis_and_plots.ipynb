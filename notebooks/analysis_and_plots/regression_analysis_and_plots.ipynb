{
 "cells": [
  {
   "cell_type": "markdown",
   "id": "7716ffb9-a564-44c7-87d4-2d4caeecdb1c",
   "metadata": {
    "tags": []
   },
   "source": [
    "# Regression and Driver Analysis\n",
    "\n",
    "This notebook demonstrates multiple linear regression and permutation importance analysis to evaluate the impact of selected hydroecological drivers on ∆BGWS. Additionally, it does the same analysis using random forest and  SHAP (SHapley Additive exPlanations).\n",
    "\n",
    "### Note\n",
    "\n",
    "To replicate the results presented in the publication, it is essential to preprocess the complete ESM output data as described in the README or Method section of the publication.\n",
    "\n",
    "**Following steps are included in this script:**\n",
    "\n",
    "1. **Load period means**\n",
    "   - Define data\n",
    "   - Load the preprocessed data\n",
    "2. **Compute BGWS and Ensemble Mean Change**\n",
    "   - Compute ∆BGWS and the associated ensemble mean changes\n",
    "   - Subdivide the dataset by BGWS regimes\n",
    "3. **Regression Analysis**\n",
    "   - Perform multiple linear regression using selected predictors\n",
    "   - Evaluate model performance and calculate permutation importance\n",
    "4. **Plot Permutation Importance**\n",
    "   - Visualize feature importance with directional insight (Fig. 3 b & d / Supplementary Fig. S4)\n",
    "5. **Random Forest Analysis**\n",
    "   - Define hyperparameter grid for random forest models\n",
    "   - Get the optimal hyperparameters with highest R2 in both datasets. Max. distance between training and testing data is 10% of R2\n",
    "   - Define best hyperparameter set for the blue and green water regime and compute the SHAP values\n",
    "6. **Plot Shap Values for Random Forest Models (Supplementary Fig. 8)**\n",
    "   - Visualize SHAP values for the training and testing dataset of both regimes"
   ]
  },
  {
   "cell_type": "code",
   "execution_count": null,
   "id": "8a60e398-b92b-4876-ab31-fd68cb70767c",
   "metadata": {},
   "outputs": [],
   "source": [
    "# ========== Import Required Libraries ==========\n",
    "import sys\n",
    "import dask\n",
    "from dask.diagnostics import ProgressBar"
   ]
  },
  {
   "cell_type": "code",
   "execution_count": null,
   "id": "5c3901b0-ef77-4be0-a9fb-64c7cd65e3ff",
   "metadata": {},
   "outputs": [],
   "source": [
    "# ========== Configure Paths ==========\n",
    "# Define the full path to the directories containing utility scripts and configurations\n",
    "config_file = '../../src'\n",
    "data_handling_dir = '../../src/data_handling'\n",
    "data_analysis_dir = '../../src/analysis'\n",
    "data_vis_dir = '../../src/visualization'\n",
    "\n",
    "# Add the directories to sys.path\n",
    "sys.path.append(config_file)\n",
    "sys.path.append(data_handling_dir)\n",
    "sys.path.append(data_analysis_dir)\n",
    "sys.path.append(data_vis_dir)\n",
    "\n",
    "# Import custom utility functions and configurations\n",
    "import load_data as load_dat\n",
    "import process_data as pro_dat\n",
    "import regression_analysis as reg_analysis\n",
    "import regression_analysis_results as reg_results\n",
    "import compute_statistics as comp_stats\n",
    "import regression_analysis_rf as rf_analysis\n",
    "\n",
    "#import data directory\n",
    "from config import DATA_DIR"
   ]
  },
  {
   "cell_type": "code",
   "execution_count": null,
   "id": "364925c5-7a0b-41de-b12e-5127f27b4361",
   "metadata": {},
   "outputs": [],
   "source": [
    "# ========== Define Font Style ==========\n",
    "import matplotlib.pyplot as plt\n",
    "plt.rcParams['font.family'] = 'Nimbus Sans'"
   ]
  },
  {
   "cell_type": "markdown",
   "id": "55c63923-30c6-41c8-8146-e2c807f496a3",
   "metadata": {},
   "source": [
    "### Step 1: Load Period Means"
   ]
  },
  {
   "cell_type": "code",
   "execution_count": null,
   "id": "81321ae4-dd93-4bb8-a5e4-9b604df636c6",
   "metadata": {},
   "outputs": [],
   "source": [
    "# Step 1.1: Define the datasets\n",
    "experiments = ['historical', 'ssp370']\n",
    "models = ['BCC-CSM2-MR', 'CESM2', 'CMCC-CM2-SR5', 'CNRM-CM6-1', 'CNRM-ESM2-1', 'CanESM5', \n",
    "          'IPSL-CM6A-LR', 'MIROC-ES2L', 'MPI-ESM1-2-LR', 'NorESM2-MM', 'UKESM1-0-LL']\n",
    "variables=['pr', 'tran', 'mrro', 'vpd', 'mrso', 'lai', 'wue', 'RX5day']"
   ]
  },
  {
   "cell_type": "code",
   "execution_count": null,
   "id": "d3f7295b-b6aa-4f48-97e1-11efbbe4dbef",
   "metadata": {},
   "outputs": [],
   "source": [
    "# Step 1.2: Load the datasets\n",
    "print(\"Loading period means...\")\n",
    "with ProgressBar():\n",
    "    ds_dict = dask.compute(\n",
    "        load_dat.load_period_mean(\n",
    "            DATA_DIR, 'processed', experiments, models, variables\n",
    "        )\n",
    "    )[0]"
   ]
  },
  {
   "cell_type": "markdown",
   "id": "ad4cc837-7fd5-43dd-a2ec-9540f13e5628",
   "metadata": {},
   "source": [
    "### Step 2: Compute BGWS and Ensemble Mean Change"
   ]
  },
  {
   "cell_type": "code",
   "execution_count": null,
   "id": "fb7e952e-253d-4c0f-8bef-91f827fa849c",
   "metadata": {},
   "outputs": [],
   "source": [
    "# Step 2.1: # Compute BGWS for both periods and ensemble mean for the historical period\n",
    "ds_dict = pro_dat.compute_bgws(ds_dict)\n",
    "ds_dict['historical'] = comp_stats.compute_ensemble_statistic(ds_dict['historical'], 'mean')"
   ]
  },
  {
   "cell_type": "code",
   "execution_count": null,
   "id": "693e7904-84f1-443b-a47c-2d11235cd8a4",
   "metadata": {},
   "outputs": [],
   "source": [
    "# Step 2.2: Compute change dictionaries and ensemble mean\n",
    "ds_dict_change = pro_dat.compute_change_dict(ds_dict)\n",
    "ds_dict_change['ssp370-historical'] = comp_stats.compute_ensemble_statistic(ds_dict_change['ssp370-historical'], 'mean')"
   ]
  },
  {
   "cell_type": "code",
   "execution_count": null,
   "id": "f539237b-1f87-4568-8f8c-ffe8969ff108",
   "metadata": {},
   "outputs": [],
   "source": [
    "# Step 2.3: Subdivide data by regimes and get final subdivided ensemble mean change dataset\n",
    "ensemble_mean_change_sub = pro_dat.subdivide_ds_by_regime(ds_dict['historical']['Ensemble mean'], \n",
    "                                                      ds_dict_change['ssp370-historical']['Ensemble mean'], 'historical', 'ssp370-historical', 'bgws')"
   ]
  },
  {
   "cell_type": "markdown",
   "id": "2d4ab4e6-207d-4965-a9b3-f7d14ace7720",
   "metadata": {},
   "source": [
    "### Step 3: Multiple Linear Regression Analysis"
   ]
  },
  {
   "cell_type": "code",
   "execution_count": null,
   "id": "ae833f31-9df3-4bcd-a3fa-246a4ddeb72d",
   "metadata": {},
   "outputs": [],
   "source": [
    "# Step 3.1: Configure regression parameters\n",
    "predictor_vars = ['pr', 'vpd', 'mrso', 'lai', 'wue', 'RX5day'] # Define the predictor variables used in the regression analysis\n",
    "predictant = 'bgws' # Define the predictant (dependent variable) for the regression analysis\n",
    "test_size = 0.3 # Share of the dataset used as test dataset (default is 30%)\n",
    "cv_folds=5 # define k for cross-validation (default is 5)\n",
    "n_permutations = 20 # Number of permutations for importance calculation\n",
    "param_grid = { # Define the parameter grid for hyperparameter tuning during regression\n",
    "    'alpha': [0.001, 0.01, 0.1, 1, 10, 100], # Regularization strength for ElasticNet\n",
    "    'l1_ratio': [0.2, 0.5, 0.8] # Mix ratio between L1 (Lasso) and L2 (Ridge) penalties\n",
    "}"
   ]
  },
  {
   "cell_type": "code",
   "execution_count": null,
   "id": "8b6be048-6816-4533-a5f3-1003eacb52ba",
   "metadata": {},
   "outputs": [],
   "source": [
    "# Step 3.2: Perform regression analysis for both regimes\n",
    "results_bw_regime = {}\n",
    "results_bw_regime = reg_analysis.regression_analysis(ensemble_mean_change_sub.isel(subdivision=0), predictor_vars, predictant, test_size,\n",
    "                        param_grid, cv_folds, n_permutations)\n",
    "results_gw_regime = {}\n",
    "results_gw_regime = reg_analysis.regression_analysis(ensemble_mean_change_sub.isel(subdivision=1), predictor_vars, predictant, test_size,\n",
    "                        param_grid, cv_folds, n_permutations)\n",
    "\n",
    "print(f\"Performance of Blue Water Regression Model (Testing Data): '{results_bw_regime['performance']['R2 Test']:.2f}\")\n",
    "print(f\"Performance of Green Water Regression Model (Testing Data): '{results_gw_regime['performance']['R2 Test']:.2f}\")"
   ]
  },
  {
   "cell_type": "markdown",
   "id": "62ea1b97-1dc4-4fae-8f9a-e8526ca746fc",
   "metadata": {},
   "source": [
    "### Step 4: Plot Permutation Importance (Fig. 3 a & b / Supplementary Fig. S7)"
   ]
  },
  {
   "cell_type": "code",
   "execution_count": null,
   "id": "4eb6666d-3907-4be4-a558-1c8054e4daa0",
   "metadata": {},
   "outputs": [],
   "source": [
    "# Step 4.1: Plot permutation importance for Blue Water regime\n",
    "reg_results.plot_permutation_importance(\n",
    "    results_bw_regime,\n",
    "    predictor_vars,\n",
    "    regime='bw_regime',  # Specify the regime being analyzed (Blue Water)\n",
    "    importance_type='test',  # Choose between 'test' or 'train' dataset for importance analysis\n",
    "    save_path=None  # Optionally specify a path to save the plot, e.g., \"../../results\"\n",
    ")"
   ]
  },
  {
   "cell_type": "code",
   "execution_count": null,
   "id": "a88990c6-13a0-49fa-89a4-12208ae8d0f0",
   "metadata": {},
   "outputs": [],
   "source": [
    "# Step 4.2: Plot permutation importance for Green Water regime\n",
    "reg_results.plot_permutation_importance(\n",
    "    results_gw_regime,\n",
    "    predictor_vars,\n",
    "    regime='gw_regime',  # Specify the regime being analyzed (Green Water)\n",
    "    importance_type='test',  # Choose between 'test' or 'train' dataset for importance analysis\n",
    "    save_path=None  # Optionally specify a path to save the plot, e.g., \"../../results\"\n",
    ")"
   ]
  },
  {
   "cell_type": "markdown",
   "id": "f5a96275-4137-469d-bf26-de5ebacfecff",
   "metadata": {},
   "source": [
    "### Step 5: Random Forest Analysis"
   ]
  },
  {
   "cell_type": "code",
   "execution_count": null,
   "id": "7a5b0aa9-10b4-4163-a44b-cb8a6bfc0af5",
   "metadata": {},
   "outputs": [],
   "source": [
    "# Step 4.1: Define hyperparameter grid for random forest models\n",
    "rf_param_grid = {\n",
    "    'max_depth': [10, 15, 20],\n",
    "    'max_features': ['sqrt'],\n",
    "    'min_samples_leaf': [5, 10, 12], \n",
    "    'min_samples_split': [2, 3], \n",
    "    'n_estimators': [200, 300]\n",
    "}"
   ]
  },
  {
   "cell_type": "code",
   "execution_count": null,
   "id": "ab545d5c-8e8e-4d08-a6b5-8056b3fb50f5",
   "metadata": {},
   "outputs": [],
   "source": [
    "#Step 4.2: Get the optimal hyperparameters with highest R2 in both datasets. Max. distance between training and testing data is 10% of R2\n",
    "print(\"Testing optimal hyperparameters for the BLUE WATER REGIME...\")\n",
    "rf_results_bw_regime_test = {}\n",
    "rf_results_bw_regime_test=rf_analysis.random_forest_analysis_with_overfitting_check(ensemble_mean_change_sub.isel(subdivision=0), predictor_vars, predictant, test_size,\n",
    "                        rf_param_grid)\n",
    "print(\"Testing optimal hyperparameters for the GREEN WATER REGIME...\")\n",
    "rf_results_gw_regime_test = {}\n",
    "rf_results_gw_regime_test = rf_analysis.random_forest_analysis_with_overfitting_check(ensemble_mean_change_sub.isel(subdivision=1), predictor_vars, predictant, test_size,\n",
    "                        rf_param_grid)"
   ]
  },
  {
   "cell_type": "code",
   "execution_count": null,
   "id": "56e96a1a-c5d1-4ed9-8283-dda030e7ea6d",
   "metadata": {},
   "outputs": [],
   "source": [
    "#Step 4.3: Define best hyperparameter set for the BLUE WATER REGIME and compute the SHAP values\n",
    "rf_param_grid_bw = {\n",
    "    'max_depth': [20],\n",
    "    'max_features': ['sqrt'],\n",
    "    'min_samples_leaf': [10],\n",
    "    'min_samples_split': [2], \n",
    "    'n_estimators': [200]\n",
    "}\n",
    "\n",
    "rf_results_bw_regime = {}\n",
    "rf_results_bw_regime = rf_analysis.random_forest_analysis(ensemble_mean_change_sub.isel(subdivision=0), predictor_vars, predictant, test_size,\n",
    "                        rf_param_grid_bw, n_permutations=n_permutations, shap=True)\n",
    "print(f\"Performance of Blue Water Regression Model (Testing Data): {rf_results_bw_regime['performance']['R2 Test']:.2f}\")\n",
    "print(f\"Performance of Blue Water Regression Model (Training Data): {rf_results_bw_regime['performance']['R2 Train']:.2f}\")"
   ]
  },
  {
   "cell_type": "code",
   "execution_count": null,
   "id": "7de7f9d1-d480-4cf6-916c-50aecfa7cb35",
   "metadata": {},
   "outputs": [],
   "source": [
    "#Step 4.4: Define best hyperparameter set for the GREEN WATER REGIME and compute the SHAP values\n",
    "rf_param_grid_gw = {\n",
    "    'max_depth': [15],\n",
    "    'max_features': ['sqrt'],\n",
    "    'min_samples_leaf': [5], \n",
    "    'min_samples_split': [2],\n",
    "    'n_estimators': [300]\n",
    "}\n",
    "\n",
    "rf_results_gw_regime = {}\n",
    "rf_results_gw_regime = rf_analysis.random_forest_analysis(ensemble_mean_change_sub.isel(subdivision=1), predictor_vars, predictant, test_size,\n",
    "                        rf_param_grid_gw, n_permutations=n_permutations, shap=True)\n",
    "print(f\"Performance of Green Water Regression Model (Testing Data): {rf_results_gw_regime['performance']['R2 Test']:.2f}\")\n",
    "print(f\"Performance of Green Water Regression Model (Training Data): {rf_results_gw_regime['performance']['R2 Train']:.2f}\")"
   ]
  },
  {
   "cell_type": "markdown",
   "id": "b8566d70-1866-4af8-add3-04b48696ae9e",
   "metadata": {},
   "source": [
    "### Step 6: Plot Shap Values for Random Forest Models (Supplementary Fig. 8)"
   ]
  },
  {
   "cell_type": "code",
   "execution_count": null,
   "id": "4ae1bbd5-b5c2-4831-b06e-88dcce329084",
   "metadata": {},
   "outputs": [],
   "source": [
    "#Step 6.1: Plot SHAP values for the TRAINING dataset of the BLUE WATER REGIME\n",
    "reg_results.plot_shap_summary(\n",
    "    results=rf_results_bw_regime, \n",
    "    X=rf_results_bw_regime['X_train'], \n",
    "    predictor_vars=predictor_vars, \n",
    "    test_train='Train',\n",
    "    save_path=None,\n",
    "    title=f\"bw_regime_train\" \n",
    ") "
   ]
  },
  {
   "cell_type": "code",
   "execution_count": null,
   "id": "394e89e2-10f0-4562-9823-e7a07f87ce82",
   "metadata": {},
   "outputs": [],
   "source": [
    "#Step 6.2: Plot SHAP values for the TESTING dataset of the BLUE WATER REGIME\n",
    "reg_results.plot_shap_summary(\n",
    "    results=rf_results_bw_regime, \n",
    "    X=rf_results_bw_regime['X_test'], \n",
    "    predictor_vars=predictor_vars, \n",
    "    test_train='Test',\n",
    "    save_path=None,\n",
    "    title=f\"bw_regime_test\" \n",
    ") "
   ]
  },
  {
   "cell_type": "code",
   "execution_count": null,
   "id": "3463c68b-8eb9-4881-994f-038f8c33eca0",
   "metadata": {},
   "outputs": [],
   "source": [
    "#Step 6.3: Plot SHAP values for the TRAINING dataset of the GREEN WATER REGIME\n",
    "reg_results.plot_shap_summary(\n",
    "    results=rf_results_gw_regime,  \n",
    "    X=rf_results_gw_regime['X_train'], \n",
    "    predictor_vars=predictor_vars, \n",
    "    test_train='Train',\n",
    "    save_path=None, #\"../../results/ssp370-historical/regression_analysis/rf/shap_importance/global/\",\n",
    "    title=f\"gw_regime_train\" \n",
    ")"
   ]
  },
  {
   "cell_type": "code",
   "execution_count": null,
   "id": "b70ece97-a14b-41d2-82e6-6c7a8a3e67e3",
   "metadata": {},
   "outputs": [],
   "source": [
    "#Step 6.4: Plot SHAP values for the TESTING dataset of the GREEN WATER REGIME\n",
    "reg_results.plot_shap_summary(\n",
    "    results=rf_results_gw_regime,  \n",
    "    X=rf_results_gw_regime['X_test'], \n",
    "    predictor_vars=predictor_vars, \n",
    "    test_train='Test',\n",
    "    save_path=None,\n",
    "    title=f\"gw_regime_test\" \n",
    ")"
   ]
  },
  {
   "cell_type": "code",
   "execution_count": null,
   "id": "6608c401-f0be-4b71-bef6-988173a78bd1",
   "metadata": {},
   "outputs": [],
   "source": []
  }
 ],
 "metadata": {
  "kernelspec": {
   "display_name": "mypy3",
   "language": "python",
   "name": "mypy3"
  },
  "language_info": {
   "codemirror_mode": {
    "name": "ipython",
    "version": 3
   },
   "file_extension": ".py",
   "mimetype": "text/x-python",
   "name": "python",
   "nbconvert_exporter": "python",
   "pygments_lexer": "ipython3",
   "version": "3.10.16"
  },
  "widgets": {
   "application/vnd.jupyter.widget-state+json": {
    "state": {},
    "version_major": 2,
    "version_minor": 0
   }
  }
 },
 "nbformat": 4,
 "nbformat_minor": 5
}
