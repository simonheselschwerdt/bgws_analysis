{
 "cells": [
  {
   "cell_type": "markdown",
   "id": "7716ffb9-a564-44c7-87d4-2d4caeecdb1c",
   "metadata": {},
   "source": [
    "# Parallel Coordinate Plots\n",
    "\n",
    "This notebook demonstrates preprocessing and plotting of the parallel coordinate plots displayed in Fig. 3c,d.\n",
    "\n",
    "### Note\n",
    "\n",
    "To replicate the results presented in the publication, it is essential to preprocess the complete ESM output data as described in the README or Method section of the publication.\n",
    "\n",
    "**Following steps are included in this script:**\n",
    "\n",
    "1. **Load Period Means**:\n",
    "   - Load preprocessed data for historical and future periods across multiple models and variables.\n",
    "2. **Compute BGWS, Ensemble Mean/Median and the Change**:\n",
    "   - Calculate Blue-Green Water Share (BGWS) and ensemble mean changes.\n",
    "3. **Subdivide BGWS Regimes and Compute Spatial Means**\n",
    "4. **Create Parallel Coodinate Plots**\n",
    "   - Select variables and set y-axis limits.\n",
    "   - Create the plots."
   ]
  },
  {
   "cell_type": "code",
   "execution_count": null,
   "id": "33e79c34-288d-4975-a0a8-bcf2ea87bc5b",
   "metadata": {},
   "outputs": [],
   "source": [
    "# ========== Import Required Libraries ==========\n",
    "import sys\n",
    "import dask\n",
    "from dask.diagnostics import ProgressBar"
   ]
  },
  {
   "cell_type": "code",
   "execution_count": null,
   "id": "bdb90565-99b1-4609-8b8b-451b2c1680ed",
   "metadata": {},
   "outputs": [],
   "source": [
    "# ========== Configure Paths ==========\n",
    "# Define the full path to the directories containing utility scripts and configurations\n",
    "sys.path.append('../../src')\n",
    "sys.path.append('../../src/data_handling')\n",
    "sys.path.append('../../src/analysis')\n",
    "sys.path.append('../../src/visualization')\n",
    "\n",
    "# Import custom utility functions and configurations\n",
    "import load_data as load_dat\n",
    "import process_data as pro_dat\n",
    "import compute_statistics as comp_stats\n",
    "import parallel_coordinate_plots as par_coor_plot\n",
    "\n",
    "#import data directory\n",
    "from config import DATA_DIR"
   ]
  },
  {
   "cell_type": "code",
   "execution_count": null,
   "id": "81619462-2f56-4a61-a3cc-991b07b9f2bb",
   "metadata": {},
   "outputs": [],
   "source": [
    "# ========== Define Font Style ==========\n",
    "import matplotlib.pyplot as plt\n",
    "plt.rcParams['font.family'] = 'Nimbus Sans'"
   ]
  },
  {
   "cell_type": "markdown",
   "id": "13269c7c-ab48-40e2-a932-9e1711be4d6b",
   "metadata": {},
   "source": [
    "### Step 1: Load Period Means"
   ]
  },
  {
   "cell_type": "code",
   "execution_count": null,
   "id": "f95b0e22-5493-4267-aa8b-c605b3866b52",
   "metadata": {},
   "outputs": [],
   "source": [
    "# Step 1.1: Define the datasets\n",
    "experiments = ['historical', 'ssp370']\n",
    "models = ['BCC-CSM2-MR', 'CESM2', 'CMCC-CM2-SR5', 'CNRM-CM6-1', 'CNRM-ESM2-1', 'CanESM5', \n",
    "          'IPSL-CM6A-LR', 'MIROC-ES2L', 'MPI-ESM1-2-LR', 'NorESM2-MM', 'UKESM1-0-LL']\n",
    "variables=['pr', 'tran', 'mrro', 'vpd', 'mrso', 'lai', 'wue', 'evapo', 'RX5day']"
   ]
  },
  {
   "cell_type": "code",
   "execution_count": null,
   "id": "10635a4b-0e77-460e-8399-66e64e9c0be8",
   "metadata": {},
   "outputs": [],
   "source": [
    "# Step 1.2: Load the datasets\n",
    "print(\"Loading period means...\")\n",
    "with ProgressBar():\n",
    "    ds_dict = dask.compute(\n",
    "        load_dat.load_period_mean(\n",
    "            DATA_DIR, 'processed', experiments, models, variables\n",
    "        )\n",
    "    )[0]"
   ]
  },
  {
   "cell_type": "markdown",
   "id": "09b2cd57-1f6b-4538-986a-5858cb4b4e1c",
   "metadata": {},
   "source": [
    "### Step 2: Compute BGWS, Ensemble Mean/Median and the Change"
   ]
  },
  {
   "cell_type": "code",
   "execution_count": null,
   "id": "08333112-f2b6-469f-b121-70b7f51c4022",
   "metadata": {},
   "outputs": [],
   "source": [
    "# Step 2.1: # Compute BGWS and ensemble mean/median for both periods\n",
    "ds_dict = pro_dat.compute_bgws(ds_dict)\n",
    "ds_dict['historical'] = comp_stats.compute_ensemble_statistic(ds_dict['historical'], 'mean')\n",
    "ds_dict['historical'] = comp_stats.compute_ensemble_statistic(ds_dict['historical'], 'median')\n",
    "ds_dict['ssp370'] = comp_stats.compute_ensemble_statistic(ds_dict['ssp370'], 'mean')\n",
    "ds_dict['ssp370'] = comp_stats.compute_ensemble_statistic(ds_dict['ssp370'], 'median')"
   ]
  },
  {
   "cell_type": "code",
   "execution_count": null,
   "id": "c41ee7e7-5d73-48c0-9f67-2be9e9d3e3c2",
   "metadata": {},
   "outputs": [],
   "source": [
    "# Step 2.2: Compute change dictionaries and ensemble mean\n",
    "ds_dict_change = pro_dat.compute_change_dict(ds_dict)\n",
    "ds_dict_change['ssp370-historical'] = comp_stats.compute_ensemble_statistic(ds_dict_change['ssp370-historical'], 'mean')\n",
    "ds_dict_change['ssp370-historical'] = comp_stats.compute_ensemble_statistic(ds_dict_change['ssp370-historical'], 'median')"
   ]
  },
  {
   "cell_type": "markdown",
   "id": "3aceda7c-a8d7-48ab-9c51-212f2f10c583",
   "metadata": {},
   "source": [
    "### Step 3: Subdivide BGWS Regimes and Compute Spatial Means"
   ]
  },
  {
   "cell_type": "code",
   "execution_count": null,
   "id": "7691f7d3-1351-4668-b6f0-2722286e22a6",
   "metadata": {},
   "outputs": [],
   "source": [
    "#Step 3.1: Subdivide historical data\n",
    "ds_dict_sub = {}\n",
    "ds_dict_sub = pro_dat.subdivide_ds_dict(ds_dict['historical'], ds_dict['historical'], \n",
    "                                                    'historical', 'historical', 'bgws')"
   ]
  },
  {
   "cell_type": "code",
   "execution_count": null,
   "id": "88c2e454-5bfb-4fce-99bb-8961ba77a25e",
   "metadata": {},
   "outputs": [],
   "source": [
    "#Step 3.2: Subdivide change data\n",
    "ds_dict_change_sub = {}\n",
    "ds_dict_change_sub = pro_dat.subdivide_ds_dict(ds_dict['historical'], ds_dict_change['ssp370-historical'], \n",
    "                                                    'historical', 'ssp370-historical', 'bgws')"
   ]
  },
  {
   "cell_type": "code",
   "execution_count": null,
   "id": "4f79e224-8821-4a3a-b862-dbd3619a3172",
   "metadata": {},
   "outputs": [],
   "source": [
    "#Step 3.3: Compute weighted spatial mean for historical data\n",
    "ds_dict_sub_mean = {}\n",
    "ds_dict_sub_mean = comp_stats.compute_spatial_mean_with_subdivisions(ds_dict_sub)"
   ]
  },
  {
   "cell_type": "code",
   "execution_count": null,
   "id": "0e5d225b-f5b8-4cdb-961c-9974722d630d",
   "metadata": {},
   "outputs": [],
   "source": [
    "#Step 3.4: Compute weighted spatial mean for change data\n",
    "ds_dict_change_sub_mean = {}\n",
    "ds_dict_change_sub_mean = comp_stats.compute_spatial_mean_with_subdivisions(ds_dict_change_sub)"
   ]
  },
  {
   "cell_type": "markdown",
   "id": "37ca9bd0-910c-4c9d-b270-02db4e58ddff",
   "metadata": {},
   "source": [
    "### Step 4: Create Parallel Coodinate Plots"
   ]
  },
  {
   "cell_type": "code",
   "execution_count": null,
   "id": "8f284fce-0857-49a0-a337-5a178decf8f2",
   "metadata": {},
   "outputs": [],
   "source": [
    "#Step 4.1: Select variables and set y-axis limits\n",
    "selected_variables = ['bgws','RX5day', 'pr', 'mrro','tran', 'evapo', 'mrso', 'lai', 'wue', 'vpd']\n",
    "yaxis_limits = {'vpd': 6.5, 'RX5day': 24, 'pr': 0.4, 'mrro': 0.4, 'tran': 0.4, 'evapo': 0.4, 'mrso': 12, 'lai': 0.9, 'wue': 2, 'bgws': 9}"
   ]
  },
  {
   "cell_type": "code",
   "execution_count": null,
   "id": "c080cc56-0683-41bb-aa09-fb74188de029",
   "metadata": {},
   "outputs": [],
   "source": [
    "#Step 4.2: Create plots\n",
    "par_coor_plot.create_parallel_coordinate_plots(\n",
    "                                    ds_dict_change_sub_mean['ssp370-historical'], \n",
    "                                    ds_dict_sub_mean['historical'], \n",
    "                                    selected_variables, \n",
    "                                    yaxis_limits,\n",
    "                                    savepath=None\n",
    ")"
   ]
  },
  {
   "cell_type": "code",
   "execution_count": null,
   "id": "e4a8a8c8-de3d-43db-a3a2-dc93b50bceec",
   "metadata": {},
   "outputs": [],
   "source": [
    "# ========= Define period, models and path ==============\n",
    "data_state = 'processed'\n",
    "data_product = 'CMIP6'\n",
    "experiments = ['historical', 'ssp370']\n",
    "models = ['BCC-CSM2-MR', 'CESM2', 'CMCC-CM2-SR5', 'CNRM-CM6-1', 'CNRM-ESM2-1', 'CanESM5', \n",
    "          'IPSL-CM6A-LR', 'MIROC-ES2L', 'MPI-ESM1-2-LR', 'NorESM2-MM', 'UKESM1-0-LL']\n",
    "\n",
    "variables=['tas', 'pr', 'vpd', 'evspsbl', 'evapo', 'tran', 'mrro', 'mrso', 'lai', 'gpp', 'wue', 'RX5day', 'gsl'] \n",
    "           \n",
    "# Execute load function with Dask\n",
    "with ProgressBar():\n",
    "    ds_dict = dask.compute(load_dat.load_period_mean(BASE_DIR, data_state, data_product, experiments, models, variables, specific_months_or_seasons=None))[0]"
   ]
  },
  {
   "cell_type": "code",
   "execution_count": null,
   "id": "079dc82f-1250-410f-b0c8-fc5e0d54b0bb",
   "metadata": {},
   "outputs": [],
   "source": [
    "ds_dict = pro_dat.compute_bgws(ds_dict)"
   ]
  },
  {
   "cell_type": "code",
   "execution_count": null,
   "id": "a78eb2a4-430e-49cc-99e1-854560ab28e7",
   "metadata": {},
   "outputs": [],
   "source": [
    "ds_dict = pro_dat.compute_tbgw(ds_dict)"
   ]
  },
  {
   "cell_type": "code",
   "execution_count": null,
   "id": "d5f279b1-4162-44cc-b2ea-ec7412701dc6",
   "metadata": {},
   "outputs": [],
   "source": [
    "ds_dict['historical'] = comp_stats.compute_ensemble_statistic(ds_dict['historical'], 'mean')\n",
    "ds_dict['historical'] = comp_stats.compute_ensemble_statistic(ds_dict['historical'], 'median')"
   ]
  },
  {
   "cell_type": "code",
   "execution_count": null,
   "id": "c5830094-7c72-47d4-a1e0-080a2b347fb5",
   "metadata": {},
   "outputs": [],
   "source": [
    "ds_dict['ssp370'] = comp_stats.compute_ensemble_statistic(ds_dict['ssp370'], 'mean')\n",
    "ds_dict['ssp370'] = comp_stats.compute_ensemble_statistic(ds_dict['ssp370'], 'median')"
   ]
  }
 ],
 "metadata": {
  "kernelspec": {
   "display_name": "mypy3",
   "language": "python",
   "name": "mypy3"
  },
  "language_info": {
   "codemirror_mode": {
    "name": "ipython",
    "version": 3
   },
   "file_extension": ".py",
   "mimetype": "text/x-python",
   "name": "python",
   "nbconvert_exporter": "python",
   "pygments_lexer": "ipython3",
   "version": "3.10.16"
  },
  "widgets": {
   "application/vnd.jupyter.widget-state+json": {
    "state": {},
    "version_major": 2,
    "version_minor": 0
   }
  }
 },
 "nbformat": 4,
 "nbformat_minor": 5
}
